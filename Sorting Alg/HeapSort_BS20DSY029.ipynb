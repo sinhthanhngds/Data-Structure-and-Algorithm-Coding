{
 "cells": [
  {
   "cell_type": "code",
   "execution_count": 2,
   "id": "2042d358",
   "metadata": {},
   "outputs": [],
   "source": [
    "def heapsort(A):\n",
    "    build_max_heap(A)\n",
    "    for i in range(len(A) - 1, 0, -1): #swap the first element with the last element in the array, the last element now is the biggest\n",
    "        A[0], A[i] = A[i], A[0]\n",
    "        max_heapify(A, index=0, size=i) #after the max element in the heap is dropped, adjust the tree to be in the max-heap form again\n",
    "        \n",
    "def parent(i): #parent node is at index (i-1)//2\n",
    "    return (i - 1)//2\n",
    "\n",
    "def left(i): #left child node is at index 2*i + 1\n",
    "    return 2*i + 1\n",
    "\n",
    "def right(i): #right child node is at index 2*i + 2\n",
    "    return 2*i + 2\n",
    "\n",
    "def build_max_heap(A): #build a max heap\n",
    "    length = len(A)\n",
    "    start = parent(length - 1)\n",
    "    while start >= 0:\n",
    "        max_heapify(A, index=start, size=length)\n",
    "        start = start - 1\n",
    "        \n",
    "def max_heapify(A, index, size): #\n",
    "    left_child = left(index) \n",
    "    right_child = right(index)\n",
    "    if (left_child < size and A[left_child] > A[index]): #if left-child exists and the left child is larger that it's parent, set largest = left-child\n",
    "        largest = left_child\n",
    "    else: #else, parent remains the largest\n",
    "        largest = index\n",
    "    if (right_child < size and A[right_child] > A[largest]): #if right child exists and right child is larger than the largest (left child or parent), then right-child becomes the largest\n",
    "        largest = right_child;\n",
    "    if (largest != index): #if the largest is not the parent, then swap parent node with it's left or right child (the bigger one)\n",
    "        A[largest], A[index] = A[index], A[largest]\n",
    "        max_heapify(A, largest, size)\n",
    "\n"
   ]
  },
  {
   "cell_type": "code",
   "execution_count": 3,
   "id": "e30265a6",
   "metadata": {},
   "outputs": [],
   "source": [
    "A = [534, 246, 933, 127, 277, 321, 454, 565, 220]\n",
    "heap_ = heapsort (A)\n"
   ]
  },
  {
   "cell_type": "code",
   "execution_count": 4,
   "id": "568e695c",
   "metadata": {},
   "outputs": [
    {
     "name": "stdout",
     "output_type": "stream",
     "text": [
      "[127, 220, 246, 277, 321, 454, 534, 565, 933]\n"
     ]
    }
   ],
   "source": [
    "print(A)"
   ]
  },
  {
   "cell_type": "code",
   "execution_count": null,
   "id": "a5bed657",
   "metadata": {},
   "outputs": [],
   "source": []
  }
 ],
 "metadata": {
  "kernelspec": {
   "display_name": "Python 3",
   "language": "python",
   "name": "python3"
  },
  "language_info": {
   "codemirror_mode": {
    "name": "ipython",
    "version": 3
   },
   "file_extension": ".py",
   "mimetype": "text/x-python",
   "name": "python",
   "nbconvert_exporter": "python",
   "pygments_lexer": "ipython3",
   "version": "3.8.8"
  }
 },
 "nbformat": 4,
 "nbformat_minor": 5
}
