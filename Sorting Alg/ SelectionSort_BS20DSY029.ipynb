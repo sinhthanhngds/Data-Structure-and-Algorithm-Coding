{
 "cells": [
  {
   "cell_type": "code",
   "execution_count": 1,
   "id": "054ca126",
   "metadata": {},
   "outputs": [],
   "source": [
    "def selection_sort (A):\n",
    "    for i in range (len(A), 0, -1): #go from the last to the first index\n",
    "        max_value_index = 0 # init an index that store the largest value from index 0 to i\n",
    "        for j in range (i): # j go from the first index to index i\n",
    "            if A[max_value_index] < A[j]: #compare value at the given index with the current value at index j\n",
    "                max_value_index = j #if the value at \"max_value_index\" is less then the current value at j, then reassign \"max_value_index\" with that j\n",
    "        A[i-1], A[max_value_index] = A[max_value_index], A[i-1] #swap value at index i-1 and the value at \"max_value_index\""
   ]
  },
  {
   "cell_type": "code",
   "execution_count": 2,
   "id": "0628368e",
   "metadata": {},
   "outputs": [
    {
     "name": "stdout",
     "output_type": "stream",
     "text": [
      "Before sorting:  [10, 4, 43, 5, 57, 91, 45, 9, 7]\n",
      "After sorting:  [4, 5, 7, 9, 10, 43, 45, 57, 91]\n"
     ]
    }
   ],
   "source": [
    "\n",
    " \n",
    "A = [10, 4, 43, 5, 57, 91, 45, 9, 7]\n",
    " \n",
    "print(\"Before sorting: \", A)\n",
    "selection_sort(A)\n",
    "print(\"After sorting: \", A)"
   ]
  },
  {
   "cell_type": "code",
   "execution_count": null,
   "id": "aadecb79",
   "metadata": {},
   "outputs": [],
   "source": []
  }
 ],
 "metadata": {
  "kernelspec": {
   "display_name": "Python 3",
   "language": "python",
   "name": "python3"
  },
  "language_info": {
   "codemirror_mode": {
    "name": "ipython",
    "version": 3
   },
   "file_extension": ".py",
   "mimetype": "text/x-python",
   "name": "python",
   "nbconvert_exporter": "python",
   "pygments_lexer": "ipython3",
   "version": "3.8.8"
  }
 },
 "nbformat": 4,
 "nbformat_minor": 5
}
