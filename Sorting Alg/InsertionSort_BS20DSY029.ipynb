{
 "cells": [
  {
   "cell_type": "code",
   "execution_count": 1,
   "id": "82aa5240",
   "metadata": {},
   "outputs": [
    {
     "name": "stdout",
     "output_type": "stream",
     "text": [
      "Before sorting:  [10, 4, 43, 5, 57, 91, 45, 9, 7]\n",
      "After sorting:  [4, 5, 7, 9, 10, 43, 45, 57, 91]\n"
     ]
    }
   ],
   "source": [
    "def insertion_sort(A):\n",
    "    for i in range(1, len(A)): #iterate from the first to the last index\n",
    "        temp = A[i] #set current element at i index\n",
    "        k = i\n",
    "        while k > 0 and temp < A[k-1]: #take another pointer, travel from index i and compare the pointing element with the previous element\n",
    "                                       #if the element at index i is smaller than its predecessor, replace the current element at index i with its predecessor\n",
    "        A[k] = A[k-1] \n",
    "            k -= 1\n",
    "        A[k] = temp #set element at index k = temp\n",
    " \n",
    "A = [10, 4, 43, 5, 57, 91, 45, 9, 7]\n",
    " \n",
    "print(\"Before sorting: \", A)\n",
    "insertion_sort(A)\n",
    "print(\"After sorting: \", A)"
   ]
  },
  {
   "cell_type": "code",
   "execution_count": null,
   "id": "84101563",
   "metadata": {},
   "outputs": [],
   "source": []
  }
 ],
 "metadata": {
  "kernelspec": {
   "display_name": "Python 3",
   "language": "python",
   "name": "python3"
  },
  "language_info": {
   "codemirror_mode": {
    "name": "ipython",
    "version": 3
   },
   "file_extension": ".py",
   "mimetype": "text/x-python",
   "name": "python",
   "nbconvert_exporter": "python",
   "pygments_lexer": "ipython3",
   "version": "3.8.8"
  }
 },
 "nbformat": 4,
 "nbformat_minor": 5
}
