{
 "cells": [
  {
   "cell_type": "code",
   "execution_count": 1,
   "id": "558ff392",
   "metadata": {},
   "outputs": [],
   "source": [
    "def bubble_sort (A):\n",
    "    for i in range (len (A)-1, 0, -1): # i travel from the last element to the first element\n",
    "        for j in range (i): # j travel from the first element to the element i\n",
    "            if A[j]>= A[j+1]: # compare the j-index element with it's next element\n",
    "                A[j], A[j+1] = A[j+1], A[j] # if the j-index value is larger, then swap it with the following index element"
   ]
  },
  {
   "cell_type": "code",
   "execution_count": 2,
   "id": "55d7639a",
   "metadata": {},
   "outputs": [],
   "source": [
    "A = [4, 5, 2, 6, 1, 7]"
   ]
  },
  {
   "cell_type": "code",
   "execution_count": 3,
   "id": "56776f42",
   "metadata": {},
   "outputs": [],
   "source": [
    "bubble_sort(A)"
   ]
  },
  {
   "cell_type": "code",
   "execution_count": 4,
   "id": "8eda212a",
   "metadata": {},
   "outputs": [
    {
     "data": {
      "text/plain": [
       "[1, 2, 4, 5, 6, 7]"
      ]
     },
     "execution_count": 4,
     "metadata": {},
     "output_type": "execute_result"
    }
   ],
   "source": [
    "A"
   ]
  },
  {
   "cell_type": "code",
   "execution_count": null,
   "id": "02df4406",
   "metadata": {},
   "outputs": [],
   "source": []
  }
 ],
 "metadata": {
  "kernelspec": {
   "display_name": "Python 3",
   "language": "python",
   "name": "python3"
  },
  "language_info": {
   "codemirror_mode": {
    "name": "ipython",
    "version": 3
   },
   "file_extension": ".py",
   "mimetype": "text/x-python",
   "name": "python",
   "nbconvert_exporter": "python",
   "pygments_lexer": "ipython3",
   "version": "3.8.8"
  }
 },
 "nbformat": 4,
 "nbformat_minor": 5
}
