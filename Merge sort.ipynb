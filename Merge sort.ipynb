{
 "cells": [
  {
   "cell_type": "code",
   "execution_count": 10,
   "id": "fad66da6",
   "metadata": {},
   "outputs": [],
   "source": [
    "def merge_sort(A):\n",
    "    # Base case\n",
    "    if len(A) <= 1:\n",
    "        return\n",
    "    mid = len(A)//2\n",
    "    leftArray = A[:mid]\n",
    "    rightArray = A[mid:]\n",
    " \n",
    "    merge_sort(leftArray)\n",
    "    merge_sort(rightArray)\n",
    " \n",
    "    # Merging process\n",
    "    i = j = k = 0\n",
    "    while i < len(leftArray) and j < len(rightArray):\n",
    "        if leftArray[i] < rightArray[j]:\n",
    "            A[k] = leftArray[i]\n",
    "            i += 1    \n",
    "        else:\n",
    "            A[k] = rightArray[j]\n",
    "            j += 1\n",
    "        k += 1\n",
    " \n",
    "    # Add the left over elements from left subarray\n",
    "    while i < len(leftArray):\n",
    "        A[k] = leftArray[i]\n",
    "        i +=1\n",
    "        k += 1\n",
    " \n",
    "    # Add the left over elements from right subarray\n",
    "    while j < len(rightArray):    \n",
    "        A[k] = rightArray[j]\n",
    "        j +=1\n",
    "        k += 1\n",
    " \n",
    " \n",
    " \n"
   ]
  },
  {
   "cell_type": "code",
   "execution_count": 11,
   "id": "e4ae17b7",
   "metadata": {},
   "outputs": [],
   "source": [
    "A = [2, 3, 1, 2, 3, 4, 5]"
   ]
  },
  {
   "cell_type": "code",
   "execution_count": 12,
   "id": "9fa918e7",
   "metadata": {},
   "outputs": [],
   "source": [
    "merge_sort(A)"
   ]
  },
  {
   "cell_type": "code",
   "execution_count": 13,
   "id": "39b35d11",
   "metadata": {},
   "outputs": [
    {
     "data": {
      "text/plain": [
       "[1, 2, 2, 3, 3, 4, 5]"
      ]
     },
     "execution_count": 13,
     "metadata": {},
     "output_type": "execute_result"
    }
   ],
   "source": [
    "A"
   ]
  },
  {
   "cell_type": "code",
   "execution_count": null,
   "id": "265f36c1",
   "metadata": {},
   "outputs": [],
   "source": []
  }
 ],
 "metadata": {
  "kernelspec": {
   "display_name": "Python 3",
   "language": "python",
   "name": "python3"
  },
  "language_info": {
   "codemirror_mode": {
    "name": "ipython",
    "version": 3
   },
   "file_extension": ".py",
   "mimetype": "text/x-python",
   "name": "python",
   "nbconvert_exporter": "python",
   "pygments_lexer": "ipython3",
   "version": "3.8.8"
  }
 },
 "nbformat": 4,
 "nbformat_minor": 5
}
