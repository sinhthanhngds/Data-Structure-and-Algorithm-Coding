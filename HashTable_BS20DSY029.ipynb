{
 "cells": [
  {
   "cell_type": "code",
   "execution_count": 1,
   "id": "c08f2e08",
   "metadata": {},
   "outputs": [],
   "source": [
    "#Implementing hash-table using Seperate chaining:\n",
    "\n",
    "class HashTable:\n",
    "    def __init__ (self, size):\n",
    "        self.size = size\n",
    "        self.HT = [[] for i in range (self.size)]\n",
    "        \n",
    "    \n",
    "    def insert(self, key, data):\n",
    "        index_ = key % self.size \n",
    "        self.HT[index_].append ({key: data}) ##add another element at (key % hash_table size)\n",
    "        \n",
    "    def print_hash (self):\n",
    "        for i in range (len(self.HT)):\n",
    "            print (i, end = ': ')\n",
    "            \n",
    "            for j in range (len(self.HT[i])):\n",
    "                print (f' --> {self.HT[i][j]}', end = '')\n",
    "            print ('\\n')\n",
    "            \n",
    "    def search (self, key):\n",
    "        index_ = key % self.size\n",
    "        for i in range (len(self.HT[index_])): #travel through all element of index i in hash-table\n",
    "            if list(self.HT[index_][i].keys())[0] == key: \n",
    "                print (f'Key found at index {index_}, sub-index {i}') #return the index if key is found\n",
    "                return\n",
    "        print ('Not found')\n",
    "        return\n",
    "        \n",
    "        \n",
    "\n"
   ]
  },
  {
   "cell_type": "code",
   "execution_count": 2,
   "id": "6720b922",
   "metadata": {},
   "outputs": [],
   "source": [
    "hash_table = HashTable (5)"
   ]
  },
  {
   "cell_type": "code",
   "execution_count": 3,
   "id": "55cc5829",
   "metadata": {},
   "outputs": [
    {
     "name": "stdout",
     "output_type": "stream",
     "text": [
      "0:  --> {0: 0} --> {5: 5} --> {100: 'T'}\n",
      "\n",
      "1:  --> {1: 1} --> {101: 'H'}\n",
      "\n",
      "2:  --> {2: 2} --> {102: 'A'}\n",
      "\n",
      "3:  --> {3: 3} --> {103: 'N'}\n",
      "\n",
      "4:  --> {4: 4} --> {104: 'H'}\n",
      "\n"
     ]
    }
   ],
   "source": [
    "for i in range (6):\n",
    "    hash_table.insert (i, i)\n",
    "hash_table.insert (100, 'T') # this should be at index 0\n",
    "hash_table.insert (101, 'H')\n",
    "hash_table.insert (102, 'A')\n",
    "hash_table.insert (103, 'N')\n",
    "hash_table.insert (104, 'H')\n",
    "hash_table.print_hash()\n"
   ]
  },
  {
   "cell_type": "code",
   "execution_count": 4,
   "id": "01eb8d02",
   "metadata": {},
   "outputs": [
    {
     "name": "stdout",
     "output_type": "stream",
     "text": [
      "Key found at index 0, sub-index 1\n"
     ]
    }
   ],
   "source": [
    "hash_table.search (5)"
   ]
  },
  {
   "cell_type": "code",
   "execution_count": 5,
   "id": "ccd6abdf",
   "metadata": {},
   "outputs": [],
   "source": [
    "# Implementing hash-table using Linear Probing\n",
    "\n",
    "class HashTable:\n",
    "    def __init__ (self, size):\n",
    "        self.size = size\n",
    "        self.index = [i for i in range (self.size)]\n",
    "        self.hash_table = [None] * self.size\n",
    "        \n",
    "    def is_empty (self, i):\n",
    "        return self.hash_table[i] == None\n",
    "    \n",
    "    def return_key(self, index):\n",
    "        return list(self.hash_table[index].keys())[0]\n",
    "    \n",
    "    def return_value (self, index):\n",
    "        return list(self.hash_table[index].values())[0]\n",
    "    \n",
    "    def insert (self, key, data):\n",
    "        index_ = key % self.size\n",
    "        for i in range (self.size): #add i from 0 to m-1 to index_ until the index (index_) of the hash table is empty\n",
    "            curr_index = (index_ + i) % self.size\n",
    "            if (self.is_empty (curr_index) is False): #check if the key is duplicate -> update value\n",
    "                if (self.return_key(curr_index) == key):\n",
    "                    self.hash_table[curr_index].update({key: data})\n",
    "            if self.is_empty (curr_index): ##if index_ of the hash table is empty, then add element there\n",
    "                self.hash_table[curr_index] = {key:data}\n",
    "                return\n",
    "\n",
    "            \n",
    "    def search (self, key):\n",
    "        index_ = key % self.size\n",
    "        for i in range (self.size): #if the key is not found at the first place, then add i to index_, i is from 1 to size of hash-table\n",
    "            curr_index = (index_ + i)% self.size\n",
    "            if self.return_key(curr_index) == key:\n",
    "                print (f'key found at Index: {curr_index}')\n",
    "                return\n",
    "        return 'Not found'\n",
    "    \n",
    "    def print_hash (self):\n",
    "        print ('Hash table:')\n",
    "        print ('Index', '\\t', 'Key', '\\t', 'Value')\n",
    "        for i in range (self.size):\n",
    "            if self.hash_table[i] == None:\n",
    "                print (i, '\\t', None, '\\t', None)\n",
    "            else:\n",
    "                print (i, '\\t', self.return_key(i), '\\t', self.return_value(i))\n",
    "            \n",
    "        \n",
    "    \n",
    "    "
   ]
  },
  {
   "cell_type": "code",
   "execution_count": 6,
   "id": "51668869",
   "metadata": {},
   "outputs": [],
   "source": [
    "hash_table = HashTable(5)"
   ]
  },
  {
   "cell_type": "code",
   "execution_count": 7,
   "id": "1e37aaf4",
   "metadata": {},
   "outputs": [],
   "source": [
    "hash_table.insert (1, 3)\n",
    "hash_table.insert (6, 4)\n",
    "hash_table.insert (11, 2)\n",
    "hash_table.insert (16, 5)\n",
    "hash_table.insert (21, 1)"
   ]
  },
  {
   "cell_type": "code",
   "execution_count": 8,
   "id": "ba0dc1fc",
   "metadata": {},
   "outputs": [],
   "source": [
    "hash_table.insert (1, 5)"
   ]
  },
  {
   "cell_type": "code",
   "execution_count": 9,
   "id": "21c5478f",
   "metadata": {},
   "outputs": [
    {
     "name": "stdout",
     "output_type": "stream",
     "text": [
      "Hash table:\n",
      "Index \t Key \t Value\n",
      "0 \t 21 \t 1\n",
      "1 \t 1 \t 5\n",
      "2 \t 6 \t 4\n",
      "3 \t 11 \t 2\n",
      "4 \t 16 \t 5\n"
     ]
    }
   ],
   "source": [
    "hash_table.print_hash()"
   ]
  },
  {
   "cell_type": "code",
   "execution_count": 11,
   "id": "9fd1bf21",
   "metadata": {},
   "outputs": [
    {
     "name": "stdout",
     "output_type": "stream",
     "text": [
      "key found at Index: 4\n"
     ]
    }
   ],
   "source": [
    "hash_table.search (16)"
   ]
  },
  {
   "cell_type": "code",
   "execution_count": 12,
   "id": "3a1f4d1d",
   "metadata": {},
   "outputs": [],
   "source": [
    "# Implementing hash-table using Quadratic Probing\n",
    "\n",
    "class HashTable:\n",
    "    def __init__ (self, size):\n",
    "        self.size = size\n",
    "        self.index = [i for i in range (self.size)]\n",
    "        self.hash_table = [None] * self.size\n",
    "        \n",
    "    def is_empty (self, i):\n",
    "        return self.hash_table[i] == None\n",
    "    \n",
    "    def return_key(self, index):\n",
    "        return list(self.hash_table[index].keys())[0]\n",
    "    \n",
    "    def return_value (self, index):\n",
    "        return list(self.hash_table[index].values())[0]\n",
    "    \n",
    "    def insert (self, key, data):\n",
    "        index_ = key % self.size\n",
    "        for i in range (self.size): #add i from 0 to m-1 to index_ until the index (index_) of the hash table is empty\n",
    "            curr_index = (index_ + i**2) % self.size\n",
    "            if (self.is_empty (curr_index) is False): #check if the key is duplicate -> update value\n",
    "                if (self.return_key(curr_index) == key):\n",
    "                    self.hash_table[curr_index].update({key: data})\n",
    "            if self.is_empty (curr_index): ##if index_ of the hash table is empty, then add element there\n",
    "                self.hash_table[curr_index] = {key:data}\n",
    "                return\n",
    "\n",
    "            \n",
    "    def search (self, key):\n",
    "        index_ = key % self.size\n",
    "        for i in range (self.size): #then add 0 to index_, i is from 1 to size of hash-table, untile foung an empty slot\n",
    "            curr_index = (index_ + i**2)% self.size\n",
    "            if self.return_key(curr_index) == key:\n",
    "                print (f'key found at Index: {curr_index}')\n",
    "                return\n",
    "        return 'Not found'\n",
    "    \n",
    "    def print_hash (self):\n",
    "        print ('Hash table:')\n",
    "        print ('Index', '\\t', 'Key', '\\t', 'Value')\n",
    "        for i in range (self.size):\n",
    "            if self.hash_table[i] == None:\n",
    "                print (i, '\\t', None, '\\t', None)\n",
    "            else:\n",
    "                print (i, '\\t', self.return_key(i), '\\t', self.return_value(i))\n",
    "            \n",
    "        \n",
    "    \n",
    "    "
   ]
  },
  {
   "cell_type": "code",
   "execution_count": 13,
   "id": "c776c99c",
   "metadata": {},
   "outputs": [],
   "source": [
    "hash_table = HashTable (5)"
   ]
  },
  {
   "cell_type": "code",
   "execution_count": 14,
   "id": "ac2fdaac",
   "metadata": {},
   "outputs": [],
   "source": [
    "hash_table.insert (1, 3)\n",
    "hash_table.insert (6, 4)\n",
    "hash_table.insert (11, 2)\n",
    "hash_table.insert (21, 5)\n",
    "hash_table.insert (16, 1)"
   ]
  },
  {
   "cell_type": "code",
   "execution_count": 15,
   "id": "e0215cdb",
   "metadata": {},
   "outputs": [
    {
     "name": "stdout",
     "output_type": "stream",
     "text": [
      "Hash table:\n",
      "Index \t Key \t Value\n",
      "0 \t 11 \t 2\n",
      "1 \t 1 \t 3\n",
      "2 \t 6 \t 4\n",
      "3 \t None \t None\n",
      "4 \t None \t None\n"
     ]
    }
   ],
   "source": [
    "hash_table.print_hash()"
   ]
  },
  {
   "cell_type": "code",
   "execution_count": 18,
   "id": "f3501e7d",
   "metadata": {},
   "outputs": [
    {
     "name": "stdout",
     "output_type": "stream",
     "text": [
      "key found at Index: 2\n"
     ]
    }
   ],
   "source": [
    "hash_table.search (6)"
   ]
  },
  {
   "cell_type": "code",
   "execution_count": 19,
   "id": "6d1ddf60",
   "metadata": {},
   "outputs": [],
   "source": [
    "hash_table.insert (1, 6)"
   ]
  },
  {
   "cell_type": "code",
   "execution_count": 22,
   "id": "d810ac4a",
   "metadata": {},
   "outputs": [
    {
     "name": "stdout",
     "output_type": "stream",
     "text": [
      "Hash table:\n",
      "Index \t Key \t Value\n",
      "0 \t 11 \t 2\n",
      "1 \t 1 \t 6\n",
      "2 \t 6 \t 4\n",
      "3 \t None \t None\n",
      "4 \t None \t None\n"
     ]
    }
   ],
   "source": [
    "hash_table.print_hash()"
   ]
  },
  {
   "cell_type": "code",
   "execution_count": null,
   "id": "d8416252",
   "metadata": {},
   "outputs": [],
   "source": []
  }
 ],
 "metadata": {
  "kernelspec": {
   "display_name": "Python 3",
   "language": "python",
   "name": "python3"
  },
  "language_info": {
   "codemirror_mode": {
    "name": "ipython",
    "version": 3
   },
   "file_extension": ".py",
   "mimetype": "text/x-python",
   "name": "python",
   "nbconvert_exporter": "python",
   "pygments_lexer": "ipython3",
   "version": "3.8.8"
  }
 },
 "nbformat": 4,
 "nbformat_minor": 5
}
