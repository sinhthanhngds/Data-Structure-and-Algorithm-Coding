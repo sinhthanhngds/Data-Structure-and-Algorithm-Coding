{
 "cells": [
  {
   "cell_type": "code",
   "execution_count": 14,
   "id": "b1e2b4ca",
   "metadata": {},
   "outputs": [],
   "source": [
    "class MaxHeap:\n",
    "    def __init__(self):\n",
    "        self.A = [0]\n",
    "        self.size = 0\n",
    " \n",
    "    # TC:O(1)\n",
    "    def parent(self, i): #parent node's index = current child node's index // 2\n",
    "        return i//2\n",
    " \n",
    "    # TC:O(1)\n",
    "    def left_child(self, i): #left child node's index = current parent node's index * 2\n",
    "        return 2*i\n",
    " \n",
    "    # TC:O(1)\n",
    "    def right_child(self, i): #right child node's index = current parent node's index * 2 + 1\n",
    "        return 2*i + 1\n",
    " \n",
    "    # TC:O(logn)\n",
    "    def insert(self, data): \n",
    "        self.A.append(data) #add new node to the the heap\n",
    "        self.size += 1\n",
    "        self.percolate_up(self.size) #keep comparing the new node with the it's parent node, if the new node is larger -> then swap them.\n",
    " \n",
    "    def percolate_up(self, i):\n",
    "        while i//2 > 0:\n",
    "            if self.A[i] > self.A[i//2]: #comparing the new node with it's current parent\n",
    "                self.A[i//2], self.A[i] = self.A[i], self.A[i//2] #swap\n",
    " \n",
    "            i = i//2\n",
    " \n",
    "    # TC:O(1)\n",
    "    def get_maximum(self): #maximum value is at the first index (first parent node)\n",
    "        if self.size == 0:\n",
    "            return -1\n",
    "        return self.A[1]\n",
    " \n",
    "    # TC:O(logn)\n",
    "    def deleteMax(self):\n",
    "        result = self.A[1] #deleted node is at the first index (the maximum node)\n",
    "        self.A[1] = self.A[self.size] #replace the first node with the last node (the minimum node)\n",
    "        self.size -= 1\n",
    "        self.A.pop() #pop out the last node\n",
    "        self.percolate_down(1) #keep comparing the mentioned minimum node with it's larger child node, if the node is smaller -> then swap them\n",
    "        return result\n",
    " \n",
    "    def percolate_down(self, i):\n",
    "        while 2*i <= self.size:\n",
    "            max_child = self.maximum_child(i)\n",
    "            if self.A[i] < self.A[max_child]: #if the mentioned minimum node is smaller than it's larger child, then swap them.\n",
    "                self.A[i], self.A[max_child] = self.A[max_child], self.A[i]\n",
    "            i = max_child\n",
    " \n",
    "    def maximum_child(self, i):\n",
    "        if 2*i+1 > self.size:\n",
    "            return 2*i\n",
    "        else: #take the index of larger child\n",
    "            if self.A[2*i] > self.A[2*i+1]:\n",
    "                return 2*i\n",
    "            else:\n",
    "                return 2*i+1\n",
    "\n",
    "    def print_heap (self):\n",
    "        return self.A\n",
    " \n",
    " \n",
    " \n"
   ]
  },
  {
   "cell_type": "code",
   "execution_count": 15,
   "id": "d8775746",
   "metadata": {},
   "outputs": [],
   "source": [
    "mh = MaxHeap()\n",
    "mh.insert(10)\n",
    "mh.insert(8)\n",
    "mh.insert(6)\n",
    "mh.insert(4)\n",
    "mh.insert(1)\n",
    "mh.insert(5)\n",
    "mh.insert(2)\n",
    "mh.insert(0)"
   ]
  },
  {
   "cell_type": "code",
   "execution_count": 16,
   "id": "18c3200b",
   "metadata": {},
   "outputs": [
    {
     "data": {
      "text/plain": [
       "[0, 10, 8, 6, 4, 1, 5, 2, 0]"
      ]
     },
     "execution_count": 16,
     "metadata": {},
     "output_type": "execute_result"
    }
   ],
   "source": [
    "mh.print_heap()"
   ]
  },
  {
   "cell_type": "code",
   "execution_count": 17,
   "id": "9be40b3e",
   "metadata": {},
   "outputs": [
    {
     "data": {
      "text/plain": [
       "10"
      ]
     },
     "execution_count": 17,
     "metadata": {},
     "output_type": "execute_result"
    }
   ],
   "source": [
    "mh.deleteMax()"
   ]
  },
  {
   "cell_type": "code",
   "execution_count": 18,
   "id": "267ad3d4",
   "metadata": {},
   "outputs": [
    {
     "data": {
      "text/plain": [
       "[0, 8, 4, 6, 0, 1, 5, 2]"
      ]
     },
     "execution_count": 18,
     "metadata": {},
     "output_type": "execute_result"
    }
   ],
   "source": [
    "mh.print_heap()"
   ]
  },
  {
   "cell_type": "code",
   "execution_count": 4,
   "id": "ee089151",
   "metadata": {},
   "outputs": [],
   "source": [
    "for i in range (6):\n",
    "    mh.deleteMax()"
   ]
  },
  {
   "cell_type": "code",
   "execution_count": 5,
   "id": "502de0ab",
   "metadata": {},
   "outputs": [
    {
     "data": {
      "text/plain": [
       "[0, 1, 0]"
      ]
     },
     "execution_count": 5,
     "metadata": {},
     "output_type": "execute_result"
    }
   ],
   "source": [
    "mh.print_heap()"
   ]
  },
  {
   "cell_type": "code",
   "execution_count": 6,
   "id": "302e66fc",
   "metadata": {},
   "outputs": [],
   "source": [
    "mh.insert (2)"
   ]
  },
  {
   "cell_type": "code",
   "execution_count": 7,
   "id": "626ffe56",
   "metadata": {},
   "outputs": [
    {
     "data": {
      "text/plain": [
       "[0, 2, 0, 1]"
      ]
     },
     "execution_count": 7,
     "metadata": {},
     "output_type": "execute_result"
    }
   ],
   "source": [
    "mh.print_heap()"
   ]
  },
  {
   "cell_type": "code",
   "execution_count": 8,
   "id": "cf6ae805",
   "metadata": {},
   "outputs": [],
   "source": [
    "mh.insert(3)"
   ]
  },
  {
   "cell_type": "code",
   "execution_count": 9,
   "id": "4ecc4e7f",
   "metadata": {},
   "outputs": [
    {
     "data": {
      "text/plain": [
       "[0, 3, 2, 1, 0]"
      ]
     },
     "execution_count": 9,
     "metadata": {},
     "output_type": "execute_result"
    }
   ],
   "source": [
    "mh.print_heap()"
   ]
  },
  {
   "cell_type": "code",
   "execution_count": 10,
   "id": "733aeac3",
   "metadata": {},
   "outputs": [],
   "source": [
    "mh.insert(1)"
   ]
  },
  {
   "cell_type": "code",
   "execution_count": 12,
   "id": "91e395bb",
   "metadata": {},
   "outputs": [
    {
     "data": {
      "text/plain": [
       "[0, 3, 2, 1, 0, 1]"
      ]
     },
     "execution_count": 12,
     "metadata": {},
     "output_type": "execute_result"
    }
   ],
   "source": [
    "mh.print_heap()"
   ]
  },
  {
   "cell_type": "code",
   "execution_count": 13,
   "id": "63be698a",
   "metadata": {},
   "outputs": [
    {
     "data": {
      "text/plain": [
       "[0, 3, 2, 2, 0, 1, 1]"
      ]
     },
     "execution_count": 13,
     "metadata": {},
     "output_type": "execute_result"
    }
   ],
   "source": [
    "mh.insert (2)\n",
    "mh.print_heap()"
   ]
  },
  {
   "cell_type": "code",
   "execution_count": null,
   "id": "d9ecfdce",
   "metadata": {},
   "outputs": [],
   "source": []
  }
 ],
 "metadata": {
  "interpreter": {
   "hash": "d519cfe596ff4d6742f5b02e77b69d8cd81f5b44309b4083d89be4656b0a451b"
  },
  "kernelspec": {
   "display_name": "Python 3",
   "language": "python",
   "name": "python3"
  },
  "language_info": {
   "codemirror_mode": {
    "name": "ipython",
    "version": 3
   },
   "file_extension": ".py",
   "mimetype": "text/x-python",
   "name": "python",
   "nbconvert_exporter": "python",
   "pygments_lexer": "ipython3",
   "version": "3.8.8"
  }
 },
 "nbformat": 4,
 "nbformat_minor": 5
}
