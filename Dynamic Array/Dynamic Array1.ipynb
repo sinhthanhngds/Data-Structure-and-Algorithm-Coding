{
 "cells": [
  {
   "cell_type": "code",
   "execution_count": 10,
   "id": "d0a9646f",
   "metadata": {},
   "outputs": [],
   "source": [
    "class Stack:\n",
    "    def __init__ (self, capacity):\n",
    "        self.top = -1\n",
    "        self.A  = [None] * capacity\n",
    "        self.capacity = capacity\n",
    "    \n",
    "    def size (self): #size is the number of valid values\n",
    "        return self.top + 1\n",
    "    \n",
    "    def is_empty(self):\n",
    "        return self.top == -1\n",
    "    \n",
    "    def is_full(self):\n",
    "        return self.top == self.capacity -1\n",
    "        \n",
    "    def push (self, data):\n",
    "        if self.is_full():\n",
    "            print (\"Stack is full... resizing\")\n",
    "            return self.resize()\n",
    "        \n",
    "        self.top += 1\n",
    "        self.A[self.top] = data\n",
    "        \n",
    "    def resize (self):\n",
    "        self.capacity = 2* self.capacity\n",
    "        newA = [None] * 2 * self.capacity\n",
    "        \n",
    "        if newA is None:\n",
    "            print (\"Your system has limited memeory, you are testing\")\n",
    "            return \n",
    "        self.capacity = self.capacity * 2\n",
    "        \n",
    "        for i in range (0, self.top+1):\n",
    "            newA[i] = self.A[i]\n",
    "            \n",
    "        self.A = newA\n",
    "        \n",
    "    def pop(self):\n",
    "        if self.is_empty():\n",
    "            return \"Stack Underflow Exception\"\n",
    " \n",
    "        temp = self.A[self.top]\n",
    "        self.top -= 1\n",
    "        \n",
    "        if self.top < self.capacity //2:\n",
    "            print ('Stack utilization is less. resizing to self.capacity')\n",
    "            newA = [None] * (self.capacity // 2)\n",
    "            for i in range (0, self.top + 1):\n",
    "                newA[i] = self.A[i]\n",
    "            self.A = newA\n",
    "            self.capacity = self.capacity // 2\n",
    "            print (self.A)\n",
    "        return (temp)\n",
    "    \n",
    "    def top_element (self):\n",
    "        if self.is_empty():\n",
    "            return \"Stack Underflow Exception\"\n",
    "        return self.A[self.top]\n",
    "stack = Stack(1)"
   ]
  },
  {
   "cell_type": "code",
   "execution_count": 11,
   "id": "b0dc11b9",
   "metadata": {},
   "outputs": [
    {
     "data": {
      "text/plain": [
       "2"
      ]
     },
     "execution_count": 11,
     "metadata": {},
     "output_type": "execute_result"
    }
   ],
   "source": [
    "2//1"
   ]
  },
  {
   "cell_type": "code",
   "execution_count": 12,
   "id": "898aca64",
   "metadata": {},
   "outputs": [
    {
     "name": "stdout",
     "output_type": "stream",
     "text": [
      "0\n"
     ]
    }
   ],
   "source": [
    "print (stack.size())"
   ]
  },
  {
   "cell_type": "code",
   "execution_count": 13,
   "id": "2a5495c3",
   "metadata": {},
   "outputs": [
    {
     "name": "stdout",
     "output_type": "stream",
     "text": [
      "True\n"
     ]
    }
   ],
   "source": [
    "print (stack.is_empty())"
   ]
  },
  {
   "cell_type": "code",
   "execution_count": 14,
   "id": "48dcec4c",
   "metadata": {},
   "outputs": [
    {
     "name": "stdout",
     "output_type": "stream",
     "text": [
      "False\n"
     ]
    }
   ],
   "source": [
    "print (stack.is_full())"
   ]
  },
  {
   "cell_type": "code",
   "execution_count": 15,
   "id": "c3c4da2e",
   "metadata": {},
   "outputs": [
    {
     "name": "stdout",
     "output_type": "stream",
     "text": [
      "15\n",
      "Stack is full... resizing\n",
      "15\n",
      "2\n",
      "15\n",
      "10\n",
      "Stack is full... resizing\n",
      "10\n",
      "15\n"
     ]
    }
   ],
   "source": [
    "import random\n",
    "for element in range (7):\n",
    "    stack.push (random.randint(1, 20))\n",
    "    print (stack.top_element())\n",
    "  \n",
    "\n",
    "    "
   ]
  },
  {
   "cell_type": "code",
   "execution_count": 16,
   "id": "cdaa5d4b",
   "metadata": {},
   "outputs": [
    {
     "name": "stdout",
     "output_type": "stream",
     "text": [
      "Stack utilization is less. resizing to self.capacity\n",
      "[15, 2, 15, 10, None, None, None, None]\n",
      "10\n",
      "Stack utilization is less. resizing to self.capacity\n",
      "[15, 2, 15, None]\n",
      "15\n",
      "Stack utilization is less. resizing to self.capacity\n",
      "[15, 2]\n",
      "2\n",
      "Stack utilization is less. resizing to self.capacity\n",
      "[15]\n",
      "15\n",
      "Stack utilization is less. resizing to self.capacity\n",
      "[]\n",
      "Stack Underflow Exception\n",
      "Stack Underflow Exception\n",
      "Stack Underflow Exception\n"
     ]
    }
   ],
   "source": [
    "for element in range (7):\n",
    "    stack.pop()\n",
    "    print (stack.top_element())"
   ]
  },
  {
   "cell_type": "code",
   "execution_count": null,
   "id": "c6eb3963",
   "metadata": {},
   "outputs": [],
   "source": []
  },
  {
   "cell_type": "code",
   "execution_count": null,
   "id": "af04e2c4",
   "metadata": {},
   "outputs": [],
   "source": []
  }
 ],
 "metadata": {
  "kernelspec": {
   "display_name": "Python 3",
   "language": "python",
   "name": "python3"
  },
  "language_info": {
   "codemirror_mode": {
    "name": "ipython",
    "version": 3
   },
   "file_extension": ".py",
   "mimetype": "text/x-python",
   "name": "python",
   "nbconvert_exporter": "python",
   "pygments_lexer": "ipython3",
   "version": "3.8.8"
  }
 },
 "nbformat": 4,
 "nbformat_minor": 5
}
