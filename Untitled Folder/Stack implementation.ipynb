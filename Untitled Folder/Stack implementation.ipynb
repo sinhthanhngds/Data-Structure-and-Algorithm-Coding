{
 "cells": [
  {
   "cell_type": "code",
   "execution_count": 14,
   "id": "d0a9646f",
   "metadata": {},
   "outputs": [],
   "source": [
    "class Stack:\n",
    "    def __init__ (self, capacity):\n",
    "        self.top = -1\n",
    "        self.A  = [None] * capacity\n",
    "        self.capacity = capacity\n",
    "    \n",
    "    def size (self): #size is the number of valid values\n",
    "        return self.top + 1\n",
    "    \n",
    "    def is_empty(self):\n",
    "        return self.top == -1\n",
    "    \n",
    "    def is_full(self):\n",
    "        return self.top == self.capacity -1\n",
    "        \n",
    "    def push (self, data):\n",
    "        if self.is_full():\n",
    "            print (\"Stack Overflow Exception\")\n",
    "            return (-1)\n",
    "        \n",
    "        self.top += 1\n",
    "        self.A[self.top] = data\n",
    "        \n",
    "\n",
    "\n",
    "    def pop(self):\n",
    "        if self.is_empty():\n",
    "            return \"Stack Underflow Exception\"\n",
    " \n",
    "        temp = self.A[self.top]\n",
    "        self.top -= 1\n",
    "        return temp\n",
    "\n",
    "    \n",
    "    def top_element (self):\n",
    "        if self.is_empty():\n",
    "            return \"Stack Underflow Exception\"\n",
    "        return self.A[self.top]\n",
    "stack = Stack(5)"
   ]
  },
  {
   "cell_type": "code",
   "execution_count": 15,
   "id": "898aca64",
   "metadata": {},
   "outputs": [
    {
     "name": "stdout",
     "output_type": "stream",
     "text": [
      "0\n"
     ]
    }
   ],
   "source": [
    "print (stack.size())"
   ]
  },
  {
   "cell_type": "code",
   "execution_count": 16,
   "id": "2a5495c3",
   "metadata": {},
   "outputs": [
    {
     "name": "stdout",
     "output_type": "stream",
     "text": [
      "True\n"
     ]
    }
   ],
   "source": [
    "print (stack.is_empty())"
   ]
  },
  {
   "cell_type": "code",
   "execution_count": 17,
   "id": "48dcec4c",
   "metadata": {},
   "outputs": [
    {
     "name": "stdout",
     "output_type": "stream",
     "text": [
      "False\n"
     ]
    }
   ],
   "source": [
    "print (stack.is_full())"
   ]
  },
  {
   "cell_type": "code",
   "execution_count": 18,
   "id": "c3c4da2e",
   "metadata": {},
   "outputs": [
    {
     "name": "stdout",
     "output_type": "stream",
     "text": [
      "13\n",
      "19\n",
      "15\n",
      "20\n",
      "15\n",
      "Stack Overflow Exception\n",
      "15\n",
      "Stack Overflow Exception\n",
      "15\n"
     ]
    }
   ],
   "source": [
    "import random\n",
    "for element in range (7):\n",
    "    stack.push (random.randint(1, 20))\n",
    "    print (stack.top_element())\n",
    "  \n",
    "\n",
    "    "
   ]
  },
  {
   "cell_type": "code",
   "execution_count": 19,
   "id": "cdaa5d4b",
   "metadata": {},
   "outputs": [
    {
     "name": "stdout",
     "output_type": "stream",
     "text": [
      "20\n",
      "15\n",
      "19\n",
      "13\n",
      "Stack Underflow Exception\n",
      "Stack Underflow Exception\n",
      "Stack Underflow Exception\n"
     ]
    }
   ],
   "source": [
    "for element in range (7):\n",
    "    stack.pop()\n",
    "    print (stack.top_element())"
   ]
  },
  {
   "cell_type": "code",
   "execution_count": null,
   "id": "c6eb3963",
   "metadata": {},
   "outputs": [],
   "source": []
  },
  {
   "cell_type": "code",
   "execution_count": null,
   "id": "af04e2c4",
   "metadata": {},
   "outputs": [],
   "source": []
  }
 ],
 "metadata": {
  "kernelspec": {
   "display_name": "Python 3",
   "language": "python",
   "name": "python3"
  },
  "language_info": {
   "codemirror_mode": {
    "name": "ipython",
    "version": 3
   },
   "file_extension": ".py",
   "mimetype": "text/x-python",
   "name": "python",
   "nbconvert_exporter": "python",
   "pygments_lexer": "ipython3",
   "version": "3.8.8"
  }
 },
 "nbformat": 4,
 "nbformat_minor": 5
}
