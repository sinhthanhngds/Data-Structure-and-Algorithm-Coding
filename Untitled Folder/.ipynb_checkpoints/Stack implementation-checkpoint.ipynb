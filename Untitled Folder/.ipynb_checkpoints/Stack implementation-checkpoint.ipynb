{
 "cells": [
  {
   "cell_type": "code",
   "execution_count": 9,
   "id": "157e3911",
   "metadata": {},
   "outputs": [],
   "source": [
    "class Stack:\n",
    "    def __init__ (self, capacity):\n",
    "        self.top = -1\n",
    "        self.A  = [None] * capacity\n",
    "        self.capacity = capacity\n",
    "    \n",
    "    def size (self): #size is the number of valid values\n",
    "        return self.top + 1\n",
    "    \n",
    "    def is_empty(self):\n",
    "        return self.top == -1\n",
    "    \n",
    "    def is_full(self):\n",
    "        return self.top == self.capacity -1\n",
    "        \n",
    "    def push (self, data):\n",
    "        if self.is_full():\n",
    "            print (\"Stack Overflow Exception\")\n",
    "            return (-1)\n",
    "        \n",
    "        self.top += 1\n",
    "        self.A[self.top] = data\n",
    "        pass\n",
    "\n",
    "    def pop (self):\n",
    "        pass\n",
    "    \n",
    "    def top_element (self):\n",
    "        pass\n",
    "stack = Stack(5)"
   ]
  },
  {
   "cell_type": "code",
   "execution_count": 10,
   "id": "18ce77ef",
   "metadata": {},
   "outputs": [
    {
     "name": "stdout",
     "output_type": "stream",
     "text": [
      "0\n"
     ]
    }
   ],
   "source": [
    "print (stack.size())"
   ]
  },
  {
   "cell_type": "code",
   "execution_count": 11,
   "id": "ba00ced3",
   "metadata": {},
   "outputs": [
    {
     "name": "stdout",
     "output_type": "stream",
     "text": [
      "True\n"
     ]
    }
   ],
   "source": [
    "print (stack.is_empty())"
   ]
  },
  {
   "cell_type": "code",
   "execution_count": 12,
   "id": "c1d79e36",
   "metadata": {},
   "outputs": [
    {
     "name": "stdout",
     "output_type": "stream",
     "text": [
      "False\n"
     ]
    }
   ],
   "source": [
    "print (stack.is_full())"
   ]
  },
  {
   "cell_type": "code",
   "execution_count": 14,
   "id": "2f2accd1",
   "metadata": {},
   "outputs": [
    {
     "name": "stdout",
     "output_type": "stream",
     "text": [
      "Stack Overflow Exception\n",
      "Stack Overflow Exception\n"
     ]
    },
    {
     "ename": "TypeError",
     "evalue": "pop() takes 1 positional argument but 2 were given",
     "output_type": "error",
     "traceback": [
      "\u001b[0;31m---------------------------------------------------------------------------\u001b[0m",
      "\u001b[0;31mTypeError\u001b[0m                                 Traceback (most recent call last)",
      "\u001b[0;32m<ipython-input-14-ceacad3b88cf>\u001b[0m in \u001b[0;36m<module>\u001b[0;34m\u001b[0m\n\u001b[1;32m      4\u001b[0m \u001b[0;34m\u001b[0m\u001b[0m\n\u001b[1;32m      5\u001b[0m \u001b[0;32mfor\u001b[0m \u001b[0melement\u001b[0m \u001b[0;32min\u001b[0m \u001b[0mrange\u001b[0m \u001b[0;34m(\u001b[0m\u001b[0;36m7\u001b[0m\u001b[0;34m)\u001b[0m\u001b[0;34m:\u001b[0m\u001b[0;34m\u001b[0m\u001b[0;34m\u001b[0m\u001b[0m\n\u001b[0;32m----> 6\u001b[0;31m     \u001b[0mstack\u001b[0m\u001b[0;34m.\u001b[0m\u001b[0mpop\u001b[0m \u001b[0;34m(\u001b[0m\u001b[0mrandom\u001b[0m\u001b[0;34m.\u001b[0m\u001b[0mrandint\u001b[0m \u001b[0;34m(\u001b[0m\u001b[0;36m1\u001b[0m\u001b[0;34m,\u001b[0m \u001b[0;36m20\u001b[0m\u001b[0;34m)\u001b[0m\u001b[0;34m)\u001b[0m\u001b[0;34m\u001b[0m\u001b[0;34m\u001b[0m\u001b[0m\n\u001b[0m",
      "\u001b[0;31mTypeError\u001b[0m: pop() takes 1 positional argument but 2 were given"
     ]
    }
   ],
   "source": [
    "import random\n",
    "for element in range (7):\n",
    "    stack.push (random.randint(1, 20))\n",
    "    \n",
    "for element in range (7):\n",
    "    stack.pop (random.randint (1, 20))"
   ]
  },
  {
   "cell_type": "code",
   "execution_count": null,
   "id": "6166967b",
   "metadata": {},
   "outputs": [],
   "source": []
  },
  {
   "cell_type": "code",
   "execution_count": null,
   "id": "fc5c6c80",
   "metadata": {},
   "outputs": [],
   "source": []
  }
 ],
 "metadata": {
  "kernelspec": {
   "display_name": "Python 3",
   "language": "python",
   "name": "python3"
  },
  "language_info": {
   "codemirror_mode": {
    "name": "ipython",
    "version": 3
   },
   "file_extension": ".py",
   "mimetype": "text/x-python",
   "name": "python",
   "nbconvert_exporter": "python",
   "pygments_lexer": "ipython3",
   "version": "3.8.8"
  }
 },
 "nbformat": 4,
 "nbformat_minor": 5
}
