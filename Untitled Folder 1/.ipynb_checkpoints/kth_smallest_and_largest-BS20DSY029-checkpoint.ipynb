{
 "cells": [
  {
   "cell_type": "code",
   "execution_count": 1,
   "id": "7d08f6ff",
   "metadata": {},
   "outputs": [],
   "source": [
    "class Node:\n",
    "    def __init__(self, data, left = None, right = None):\n",
    "        self.data = data\n",
    "        self.left = left\n",
    "        self.right = right\n",
    "\n"
   ]
  },
  {
   "cell_type": "code",
   "execution_count": 2,
   "id": "7cf0ff87",
   "metadata": {},
   "outputs": [],
   "source": [
    "counter = 0 \n",
    "class BinarySearchTree:\n",
    "    def __init__(self, root):\n",
    "        self.root = root\n",
    " \n",
    "    def in_order(self, root):\n",
    "        if root == None:\n",
    "            return\n",
    "        self.in_order(root.left)\n",
    "        print(root.data, end = \" \")\n",
    "        self.in_order(root.right)\n",
    " \n",
    " \n",
    "    def kth_smallest(self, root, K):\n",
    "        global counter\n",
    "        if root == None:\n",
    "            return root\n",
    " \n",
    "        smallest = self.kth_smallest(root.left, K)\n",
    " \n",
    "        if smallest:\n",
    "            return smallest\n",
    " \n",
    "        counter += 1    \n",
    "        if counter == K:\n",
    "            return root.data\n",
    " \n",
    "        return self.kth_smallest(root.right, K)\n",
    "\n",
    "    def kth_largest(self, root, k):\n",
    "        global counter\n",
    "        \n",
    "        if root==None:\n",
    "            return root\n",
    "        \n",
    "        largest=self.kth_largest(root.right, k)\n",
    "        \n",
    "        if largest:\n",
    "            return largest\n",
    "        \n",
    "        counter+=1\n",
    "        if counter == k:\n",
    "            return root.data\n",
    "        \n",
    "        return self.kth_largest(root.left,k)\n",
    " \n"
   ]
  },
  {
   "cell_type": "code",
   "execution_count": 3,
   "id": "24cdeb69",
   "metadata": {},
   "outputs": [
    {
     "name": "stdout",
     "output_type": "stream",
     "text": [
      "50 70 90 100 120 130 150 "
     ]
    }
   ],
   "source": [
    "node1 =Node(100)\n",
    "node2 =Node(70)\n",
    "node3 =Node(130)\n",
    "node4 =Node (50)\n",
    "node5 =Node(90)\n",
    "node6 =Node(120)\n",
    "node7 =Node(150)\n",
    " \n",
    "node1.left = node2; node1.right = node3\n",
    "node2.left = node4; node2.right = node5\n",
    "node3.left = node6; node3.right = node7\n",
    " \n",
    "bst = BinarySearchTree(node1)\n",
    "bst.in_order(node1)"
   ]
  },
  {
   "cell_type": "code",
   "execution_count": 4,
   "id": "673b04c4",
   "metadata": {},
   "outputs": [
    {
     "data": {
      "text/plain": [
       "50"
      ]
     },
     "execution_count": 4,
     "metadata": {},
     "output_type": "execute_result"
    }
   ],
   "source": [
    "bst.kth_smallest(node1, 1)"
   ]
  },
  {
   "cell_type": "code",
   "execution_count": 5,
   "id": "a8df0a73",
   "metadata": {},
   "outputs": [
    {
     "data": {
      "text/plain": [
       "150"
      ]
     },
     "execution_count": 5,
     "metadata": {},
     "output_type": "execute_result"
    }
   ],
   "source": [
    "counter = 0\n",
    "\n",
    "bst.kth_largest (node1, 1)"
   ]
  },
  {
   "cell_type": "code",
   "execution_count": null,
   "id": "5704affa",
   "metadata": {},
   "outputs": [],
   "source": []
  }
 ],
 "metadata": {
  "kernelspec": {
   "display_name": "Python 3",
   "language": "python",
   "name": "python3"
  },
  "language_info": {
   "codemirror_mode": {
    "name": "ipython",
    "version": 3
   },
   "file_extension": ".py",
   "mimetype": "text/x-python",
   "name": "python",
   "nbconvert_exporter": "python",
   "pygments_lexer": "ipython3",
   "version": "3.8.8"
  }
 },
 "nbformat": 4,
 "nbformat_minor": 5
}
