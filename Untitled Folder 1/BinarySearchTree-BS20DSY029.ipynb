{
 "cells": [
  {
   "cell_type": "code",
   "execution_count": 47,
   "id": "8a9134e2",
   "metadata": {},
   "outputs": [],
   "source": [
    "class Node:\n",
    "    def __init__(self, data, left = None, right = None):\n",
    "        self.data = data\n",
    "        self.left = left\n",
    "        self.right = right\n"
   ]
  },
  {
   "cell_type": "code",
   "execution_count": 48,
   "id": "7126f028",
   "metadata": {},
   "outputs": [],
   "source": [
    "class Queue:\n",
    "    def __init__(self, capacity=15):\n",
    "        self.A = []\n",
    "        self.capacity=capacity\n",
    " \n",
    "    def is_empty(self):\n",
    "        return len(self.A) == 0\n",
    " \n",
    "    def is_full(self):\n",
    "        return len(self.A) == self.capacity\n",
    " \n",
    "    def size(self):\n",
    "        return len(self.A)\n",
    " \n",
    "    def enQueue(self, data):\n",
    "        if self.is_full():\n",
    "            print(\"Queue Overflow\")\n",
    "            return\n",
    "        self.A.append(data)\n",
    " \n",
    "    def deQueue(self):\n",
    "        if self.is_empty():\n",
    "            return \"Queue Underflow\"\n",
    "        return self.A.pop(0)\n",
    " \n",
    "    def peek_front(self):\n",
    "        if self.is_empty():\n",
    "            return \"Queue Underflow\"\n",
    "        return self.A[0]"
   ]
  },
  {
   "cell_type": "code",
   "execution_count": 128,
   "id": "2f05c20c",
   "metadata": {},
   "outputs": [],
   "source": [
    "class BinarySearchTree:\n",
    "    def __init__ (self, root = None):\n",
    "        self.root = root\n",
    "        \n",
    "    def inorder(self, root):\n",
    "        if root == None:\n",
    "            return\n",
    "        self.inorder(root.left)\n",
    "        print(root.data, end = \" \")\n",
    "        self.inorder(root.right)\n",
    "        \n",
    "    def search (self, root, data):\n",
    "        if root is None:\n",
    "            return\n",
    "        elif root.data > data:\n",
    "            if root.left == None:\n",
    "                return \"Cannot be found\"\n",
    "            else:\n",
    "                return self.search (root.left, data)\n",
    "        elif root.data < data:\n",
    "            if root.right == None:\n",
    "                return \"Cannot be found\"\n",
    "            else:\n",
    "                return self.search (root.right, data)\n",
    "        else:\n",
    "            return root.data, \"found\"\n",
    "\n",
    "\n",
    "    def insert(self, root, data):\n",
    "        node = Node(data)\n",
    "        if root is None:\n",
    "            root = node\n",
    "        elif root.data >= data:\n",
    "            if root.left is None:\n",
    "                root.left = node\n",
    "            else:\n",
    "                return self.insert(root.left, data)\n",
    "        elif root.data < data:\n",
    "            if root.right is None:\n",
    "                root.right = node\n",
    "            else:\n",
    "                return self.insert(root.right, data)\n",
    "    def find_min (self, root):\n",
    "        if root == None:\n",
    "            return\n",
    "        while root.left != None:\n",
    "            root = root.left\n",
    "        return root.data\n",
    "    \n",
    "    def find_max (self, root):\n",
    "        if root == None:\n",
    "            return\n",
    "        while root.right != None:\n",
    "            root = root.right\n",
    "        return root.data\n",
    "\n",
    "                \n",
    "    def delete(self, root, data):\n",
    "        if root == None:\n",
    "            return root\n",
    "        \n",
    "        if data < root.data:\n",
    "            root.left = self.delete(root.left, data)\n",
    "\n",
    "        elif(data > root.data):\n",
    "            root.right = self.delete(root.right, data)\n",
    " \n",
    "   \n",
    "        else:\n",
    "            if root.left is None:\n",
    "                temp = root.right\n",
    "                root = None\n",
    "                return temp\n",
    " \n",
    "            elif root.right is None:\n",
    "                temp = root.left\n",
    "                root = None\n",
    "                return temp\n",
    " \n",
    "      \n",
    "            temp = root.right\n",
    "            while temp.left != None:\n",
    "                temp = temp.left\n",
    "            root.data = temp.data\n",
    "            root.data = temp.data\n",
    " \n",
    "            root.right = self.delete(root.right, temp.data)\n",
    " \n",
    "        return root\n",
    "\n",
    "    def depth_of_node (self, root, data):\n",
    "        \n",
    "        if (root == None):\n",
    "            return -1\n",
    "        depth = -1\n",
    "        if (root.data == data):\n",
    "            return depth + 1\n",
    " \n",
    "        depth = self.depth_of_node(root.left, data)\n",
    "        if depth >= 0:\n",
    "            return depth + 1\n",
    "        depth = self.depth_of_node(root.right, data)\n",
    "        if depth >= 0:\n",
    "            return depth + 1\n",
    "        return depth\n",
    "    \n",
    "    def deepest_node (self, root):\n",
    "        if root is None:\n",
    "            return None\n",
    "    \n",
    "        node = None\n",
    "        q = Queue()\n",
    "        q.enQueue(root)\n",
    "\n",
    "        while not q.is_empty():\n",
    "            node = q.deQueue()\n",
    "            if node.left:\n",
    "                q.enQueue(node.left)\n",
    "            if node.right:\n",
    "                q.enQueue(node.right)\n",
    "        return node.data\n",
    "            \n",
    "        \n",
    "        \n",
    "    \n",
    "    \n",
    "            \n",
    "                \n",
    "            \n",
    "        "
   ]
  },
  {
   "cell_type": "code",
   "execution_count": 139,
   "id": "2a43c2f2",
   "metadata": {},
   "outputs": [],
   "source": [
    "node1 =Node(100)\n",
    "node2 =Node(50)\n",
    "node3 =Node(300)\n",
    "node4 =Node(10)\n",
    "node5 =Node(70)\n",
    "node6 =Node(200)\n",
    "node7 =Node(700)\n",
    " \n",
    "node1.left = node2; node1.right = node3\n",
    "node2.left = node4; node2.right = node5\n",
    "node3.left = node6; node3.right = node7"
   ]
  },
  {
   "cell_type": "code",
   "execution_count": 140,
   "id": "b9ce2b41",
   "metadata": {},
   "outputs": [],
   "source": [
    "bst = BinarySearchTree (node1)"
   ]
  },
  {
   "cell_type": "code",
   "execution_count": 141,
   "id": "65e881b0",
   "metadata": {},
   "outputs": [
    {
     "data": {
      "text/plain": [
       "(700, 'found')"
      ]
     },
     "execution_count": 141,
     "metadata": {},
     "output_type": "execute_result"
    }
   ],
   "source": [
    "bst.search (node1, 700)"
   ]
  },
  {
   "cell_type": "code",
   "execution_count": 132,
   "id": "70108aab",
   "metadata": {},
   "outputs": [
    {
     "data": {
      "text/plain": [
       "10"
      ]
     },
     "execution_count": 132,
     "metadata": {},
     "output_type": "execute_result"
    }
   ],
   "source": [
    "bst.find_min(node1)"
   ]
  },
  {
   "cell_type": "code",
   "execution_count": 133,
   "id": "3881970d",
   "metadata": {},
   "outputs": [
    {
     "data": {
      "text/plain": [
       "700"
      ]
     },
     "execution_count": 133,
     "metadata": {},
     "output_type": "execute_result"
    }
   ],
   "source": [
    "bst.find_max(node1)"
   ]
  },
  {
   "cell_type": "code",
   "execution_count": 134,
   "id": "b4d34fca",
   "metadata": {},
   "outputs": [
    {
     "name": "stdout",
     "output_type": "stream",
     "text": [
      "2 10 50 70 100 200 300 700 "
     ]
    }
   ],
   "source": [
    "bst.insert (node1, 2)\n",
    "bst.inorder(node1)"
   ]
  },
  {
   "cell_type": "code",
   "execution_count": 135,
   "id": "5be82b50",
   "metadata": {},
   "outputs": [
    {
     "name": "stdout",
     "output_type": "stream",
     "text": [
      "2 10 50 70 100 200 300 "
     ]
    }
   ],
   "source": [
    "bst.delete(node1, 700)\n",
    "bst.inorder(node1)"
   ]
  },
  {
   "cell_type": "code",
   "execution_count": 136,
   "id": "b91ad1b8",
   "metadata": {},
   "outputs": [
    {
     "name": "stdout",
     "output_type": "stream",
     "text": [
      "2 10 50 70 100 200 "
     ]
    }
   ],
   "source": [
    "bst.delete(node1, 300)\n",
    "bst.inorder (node1)"
   ]
  },
  {
   "cell_type": "code",
   "execution_count": 137,
   "id": "cbb67ba9",
   "metadata": {},
   "outputs": [
    {
     "data": {
      "text/plain": [
       "1"
      ]
     },
     "execution_count": 137,
     "metadata": {},
     "output_type": "execute_result"
    }
   ],
   "source": [
    "bst.depth_of_node (node1, 200)"
   ]
  },
  {
   "cell_type": "code",
   "execution_count": 142,
   "id": "ee9a9504",
   "metadata": {},
   "outputs": [
    {
     "data": {
      "text/plain": [
       "700"
      ]
     },
     "execution_count": 142,
     "metadata": {},
     "output_type": "execute_result"
    }
   ],
   "source": [
    "bst.deepest_node(node1)"
   ]
  },
  {
   "cell_type": "code",
   "execution_count": null,
   "id": "42e794a0",
   "metadata": {},
   "outputs": [],
   "source": []
  }
 ],
 "metadata": {
  "kernelspec": {
   "display_name": "Python 3",
   "language": "python",
   "name": "python3"
  },
  "language_info": {
   "codemirror_mode": {
    "name": "ipython",
    "version": 3
   },
   "file_extension": ".py",
   "mimetype": "text/x-python",
   "name": "python",
   "nbconvert_exporter": "python",
   "pygments_lexer": "ipython3",
   "version": "3.8.8"
  }
 },
 "nbformat": 4,
 "nbformat_minor": 5
}
