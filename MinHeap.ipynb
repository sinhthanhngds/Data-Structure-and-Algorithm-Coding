{
 "cells": [
  {
   "cell_type": "code",
   "execution_count": 37,
   "id": "031ec86e",
   "metadata": {},
   "outputs": [],
   "source": [
    "class MinHeap:\n",
    "    def __init__(self):\n",
    "        #Implementing the min heap with Array\n",
    "        self.A = [0]\n",
    "        self.size = 0\n",
    "    \n",
    "    # TC:O(1)\n",
    "    def parent(self, i): #the parent of a particular node is placed at the index that is equal to the current index // 2\n",
    "        return i//2\n",
    " \n",
    "    # TC:O(1)\n",
    "    def left_child(self, i): #the left child of a particular node is placed at (current index * 2)\n",
    "        return 2*i\n",
    " \n",
    "    # TC:O(1)\n",
    "    def right_child(self, i): #the right child of a particular node is placed at (current index * 2 + 1)\n",
    "        return 2*i + 1\n",
    " \n",
    "    # TC:O(logn)\n",
    "    def insert(self, data): \n",
    "        self.A.append(data) #append the new node in the last place\n",
    "        self.size += 1  \n",
    "        self.percolate_up(self.size) #keep swapping the current node with it's parent node until the current node > it's parent node\n",
    " \n",
    "    def percolate_up(self, i): #to find the parent node, we just need to take current index // 2 \n",
    "        while i//2 > 0:\n",
    "            if self.A[i] < self.A[i//2]:\n",
    "                self.A[i//2], self.A[i] = self.A[i], self.A[i//2] #swapping\n",
    "            i = i//2\n",
    " \n",
    "    # TC:O(1)\n",
    "    def get_minimum(self): #the minimum node is always the first parent node\n",
    "        if self.size == 0:\n",
    "            return -1\n",
    "        return self.A[1]\n",
    " \n",
    "    # TC:O(logn)\n",
    "    def deleteMin(self): # \n",
    "        result = self.A[1] #the deleted node is always the first parent node\n",
    "        self.A[1] = self.A[self.size] #replace the first node by the last node\n",
    "        self.size -= 1\n",
    "        self.A.pop() #pop the last \n",
    "        self.percolate_down(1) #keep comparing the parent node with it's smaller child node, swap if the parent node < the child one.\n",
    "        return result\n",
    " \n",
    "    def percolate_down(self, i):\n",
    "        while 2*i <= self.size:\n",
    "            min_child = self.minimum_child(i) # = index of smaller child node\n",
    "            if self.A[i] > self.A[min_child]: #compare the parent node with the smaller child node\n",
    "                self.A[i], self.A[min_child] = self.A[min_child], self.A[i] #if true, swap them\n",
    "            i = min_child\n",
    " \n",
    "    def minimum_child(self, i):\n",
    "        if 2*i+1 > self.size:\n",
    "            return 2*i\n",
    "        else: #compare 2 children nodes and find out the smaller one\n",
    "            if self.A[2*i] < self.A[2*i+1]:\n",
    "                return 2*i\n",
    "            else:\n",
    "                return 2*i+1\n",
    "    def print_heap (self):\n",
    "        return self.A\n",
    " \n",
    "\n"
   ]
  },
  {
   "cell_type": "code",
   "execution_count": 38,
   "id": "97bad6b6",
   "metadata": {},
   "outputs": [],
   "source": [
    "mh = MinHeap()\n",
    "mh.insert(10)\n",
    "mh.insert(8)\n",
    "mh.insert(6)\n",
    "mh.insert(4)\n",
    "mh.insert(1)\n",
    "mh.insert(5)\n",
    "mh.insert(2)\n",
    "mh.insert(0)"
   ]
  },
  {
   "cell_type": "code",
   "execution_count": 39,
   "metadata": {},
   "outputs": [
    {
     "data": {
      "text/plain": [
       "[0, 0, 1, 2, 4, 6, 8, 5, 10]"
      ]
     },
     "execution_count": 39,
     "metadata": {},
     "output_type": "execute_result"
    }
   ],
   "source": [
    "mh.print_heap()"
   ]
  },
  {
   "cell_type": "code",
   "execution_count": 40,
   "id": "c20169a3",
   "metadata": {},
   "outputs": [
    {
     "name": "stdout",
     "output_type": "stream",
     "text": [
      "0\n",
      "1\n",
      "2\n",
      "4\n",
      "5\n",
      "6\n"
     ]
    }
   ],
   "source": [
    "for i in range(6):\n",
    "    print(mh.deleteMin())"
   ]
  },
  {
   "cell_type": "code",
   "execution_count": 41,
   "id": "338425df",
   "metadata": {},
   "outputs": [
    {
     "data": {
      "text/plain": [
       "[0, 8, 10]"
      ]
     },
     "execution_count": 41,
     "metadata": {},
     "output_type": "execute_result"
    }
   ],
   "source": [
    "mh.print_heap()"
   ]
  },
  {
   "cell_type": "code",
   "execution_count": 39,
   "id": "04fb478e",
   "metadata": {},
   "outputs": [
    {
     "data": {
      "text/plain": [
       "[0, 10]"
      ]
     },
     "execution_count": 39,
     "metadata": {},
     "output_type": "execute_result"
    }
   ],
   "source": []
  },
  {
   "cell_type": "code",
   "execution_count": null,
   "id": "7b321f0a",
   "metadata": {},
   "outputs": [],
   "source": []
  }
 ],
 "metadata": {
  "interpreter": {
   "hash": "d519cfe596ff4d6742f5b02e77b69d8cd81f5b44309b4083d89be4656b0a451b"
  },
  "kernelspec": {
   "display_name": "Python 3.8.8 64-bit ('base': conda)",
   "name": "python3"
  },
  "language_info": {
   "codemirror_mode": {
    "name": "ipython",
    "version": 3
   },
   "file_extension": ".py",
   "mimetype": "text/x-python",
   "name": "python",
   "nbconvert_exporter": "python",
   "pygments_lexer": "ipython3",
   "version": "3.8.8"
  }
 },
 "nbformat": 4,
 "nbformat_minor": 5
}
