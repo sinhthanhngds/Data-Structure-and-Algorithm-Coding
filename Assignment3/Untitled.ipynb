{
 "cells": [
  {
   "cell_type": "code",
   "execution_count": 2,
   "id": "075ca9d1",
   "metadata": {},
   "outputs": [],
   "source": [
    "import random\n",
    "class Stack:\n",
    "    def __init__(self, capacity):\n",
    "        self.top = -1\n",
    "        self.A = [None] * capacity\n",
    "        self.capacity = capacity\n",
    " \n",
    "    # valid values\n",
    "    def size(self):\n",
    "        return self.top+1\n",
    " \n",
    "    def is_empty(self):\n",
    "        return self.top == -1\n",
    " \n",
    "    def is_full(self):\n",
    "        return self.top == self.capacity - 1 # or return self.top+1 == self.capacity\n",
    " \n",
    "    def push(self, data):\n",
    "        if self.is_full():\n",
    "            print(\"Stack Overflow Exception\")\n",
    "            return\n",
    "        print(\"Pushing\", data)\n",
    "        self.top += 1\n",
    " \n",
    "        self.A[self.top] =  data\n",
    " \n",
    "    def pop(self):\n",
    "        if self.is_empty():\n",
    "            return \"Stack Underflow Exception\"\n",
    " \n",
    "        temp = self.A[self.top]\n",
    "        self.top -= 1\n",
    "        return temp\n",
    " \n",
    "    def peek(self):\n",
    "        if self.is_empty():\n",
    "            return \"Stack Underflow Exception\"\n",
    "        return self.A[self.top]\n",
    "    \n",
    "    def _print (self):\n",
    "        return (self.A)\n",
    " \n",
    "stack = Stack(5)\n",
    "\n",
    " \n",
    "\n",
    " \n"
   ]
  },
  {
   "cell_type": "code",
   "execution_count": 3,
   "id": "9ac88d2e",
   "metadata": {},
   "outputs": [
    {
     "name": "stdout",
     "output_type": "stream",
     "text": [
      "Pushing 0\n",
      "Pushing 1\n",
      "Pushing 2\n",
      "Pushing 3\n",
      "Pushing 4\n"
     ]
    }
   ],
   "source": [
    "for i in range (5):\n",
    "    stack.push(i)"
   ]
  },
  {
   "cell_type": "code",
   "execution_count": 4,
   "id": "995e9865",
   "metadata": {},
   "outputs": [
    {
     "data": {
      "text/plain": [
       "[0, 1, 2, 3, 4]"
      ]
     },
     "execution_count": 4,
     "metadata": {},
     "output_type": "execute_result"
    }
   ],
   "source": [
    "stack._print()"
   ]
  },
  {
   "cell_type": "code",
   "execution_count": 5,
   "id": "cbaaebcc",
   "metadata": {},
   "outputs": [
    {
     "name": "stdout",
     "output_type": "stream",
     "text": [
      "Stack Overflow Exception\n"
     ]
    }
   ],
   "source": [
    "stack.push(5)"
   ]
  },
  {
   "cell_type": "code",
   "execution_count": 6,
   "id": "47de50c8",
   "metadata": {},
   "outputs": [
    {
     "data": {
      "text/plain": [
       "[0, 1, 2, 3, 4]"
      ]
     },
     "execution_count": 6,
     "metadata": {},
     "output_type": "execute_result"
    }
   ],
   "source": [
    "stack._print()"
   ]
  },
  {
   "cell_type": "code",
   "execution_count": null,
   "id": "be549736",
   "metadata": {},
   "outputs": [],
   "source": []
  }
 ],
 "metadata": {
  "kernelspec": {
   "display_name": "Python 3",
   "language": "python",
   "name": "python3"
  },
  "language_info": {
   "codemirror_mode": {
    "name": "ipython",
    "version": 3
   },
   "file_extension": ".py",
   "mimetype": "text/x-python",
   "name": "python",
   "nbconvert_exporter": "python",
   "pygments_lexer": "ipython3",
   "version": "3.8.8"
  }
 },
 "nbformat": 4,
 "nbformat_minor": 5
}
