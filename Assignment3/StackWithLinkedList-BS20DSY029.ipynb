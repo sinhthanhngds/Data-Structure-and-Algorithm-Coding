{
 "cells": [
  {
   "cell_type": "code",
   "execution_count": 25,
   "id": "7bdec4c4",
   "metadata": {},
   "outputs": [],
   "source": [
    "class Node:\n",
    "    def __init__ (self, data):\n",
    "        self.data = data\n",
    "        self.next= None\n",
    "            \n",
    "\n",
    "class Stack:\n",
    "    def __init__ (self, capacity):\n",
    "        self.head = None\n",
    "        self.capacity = capacity\n",
    "        \n",
    "    def is_empty(self):\n",
    "        return self.head == None\n",
    "                \n",
    "    def length (self):\n",
    "        current = self.head\n",
    "        length = 0\n",
    "        while current != None:\n",
    "            length = length + 1\n",
    "            current = current.next\n",
    "            \n",
    "        return length\n",
    "    \n",
    "    def is_full(self):\n",
    "        return self.length() == self.capacity\n",
    "    \n",
    "    def push(self, data):\n",
    "        newNode = Node(data)\n",
    "        if self.head == None:\n",
    "            self.head = newNode\n",
    "        elif self.is_full():\n",
    "            return (\"Stack is full\")\n",
    "        else:\n",
    "            newNode.next = self.head\n",
    "            self.head = newNode\n",
    "    \n",
    "    def pop (self):\n",
    "        \n",
    "        if self.is_empty():\n",
    "            return \"Stack is empty\"\n",
    "        else:\n",
    "            pop_node = self.head\n",
    "            self.head = self.head.next\n",
    "            pop_node.next = None\n",
    "            return pop_node.data\n",
    "    \n",
    "    def top_el(self):\n",
    "        if self.is_empty():\n",
    "            return \"Stack is empty\"\n",
    "        else:\n",
    "            return (self.head.data)\n",
    "    \n",
    "    def print_stack(self):\n",
    "        current = self.head\n",
    "        if self.is_empty():\n",
    "            return (\"empty stack\")\n",
    "        else:\n",
    "            while (current!= None):\n",
    "                print (f' -> {current.data}', end = \"\")\n",
    "                current = current.next\n",
    "            return"
   ]
  },
  {
   "cell_type": "code",
   "execution_count": 26,
   "id": "0fdc5234",
   "metadata": {},
   "outputs": [],
   "source": [
    "stack = Stack(5)"
   ]
  },
  {
   "cell_type": "code",
   "execution_count": 27,
   "id": "87a05ece",
   "metadata": {},
   "outputs": [
    {
     "data": {
      "text/plain": [
       "'empty stack'"
      ]
     },
     "execution_count": 27,
     "metadata": {},
     "output_type": "execute_result"
    }
   ],
   "source": [
    "stack.print_stack()"
   ]
  },
  {
   "cell_type": "code",
   "execution_count": 28,
   "id": "6b511efc",
   "metadata": {},
   "outputs": [
    {
     "name": "stdout",
     "output_type": "stream",
     "text": [
      " -> 4 -> 3 -> 2 -> 1 -> 0"
     ]
    }
   ],
   "source": [
    "for i in range (5):\n",
    "    stack.push (i)\n",
    "stack.print_stack()\n"
   ]
  },
  {
   "cell_type": "code",
   "execution_count": 29,
   "id": "089dfe4d",
   "metadata": {},
   "outputs": [
    {
     "name": "stdout",
     "output_type": "stream",
     "text": [
      " -> 3 -> 2 -> 1 -> 0"
     ]
    }
   ],
   "source": [
    "stack.pop()\n",
    "stack.print_stack()"
   ]
  },
  {
   "cell_type": "code",
   "execution_count": 30,
   "id": "9813a341",
   "metadata": {},
   "outputs": [
    {
     "data": {
      "text/plain": [
       "3"
      ]
     },
     "execution_count": 30,
     "metadata": {},
     "output_type": "execute_result"
    }
   ],
   "source": [
    "stack.top_el()"
   ]
  },
  {
   "cell_type": "code",
   "execution_count": 31,
   "id": "02235cb3",
   "metadata": {},
   "outputs": [
    {
     "name": "stdout",
     "output_type": "stream",
     "text": [
      " -> 3 -> 2 -> 1 -> 0"
     ]
    }
   ],
   "source": [
    "stack.print_stack()"
   ]
  },
  {
   "cell_type": "code",
   "execution_count": 32,
   "id": "535bf20e",
   "metadata": {},
   "outputs": [
    {
     "data": {
      "text/plain": [
       "'Stack is full'"
      ]
     },
     "execution_count": 32,
     "metadata": {},
     "output_type": "execute_result"
    }
   ],
   "source": [
    "stack.push (1)\n",
    "stack.push(1)"
   ]
  },
  {
   "cell_type": "code",
   "execution_count": 33,
   "id": "46a148f0",
   "metadata": {},
   "outputs": [
    {
     "data": {
      "text/plain": [
       "'Stack is full'"
      ]
     },
     "execution_count": 33,
     "metadata": {},
     "output_type": "execute_result"
    }
   ],
   "source": [
    "stack.push(1)"
   ]
  },
  {
   "cell_type": "code",
   "execution_count": 34,
   "id": "3bb5fcfb",
   "metadata": {},
   "outputs": [
    {
     "name": "stdout",
     "output_type": "stream",
     "text": [
      " -> 1 -> 3 -> 2 -> 1 -> 0"
     ]
    }
   ],
   "source": [
    "stack.print_stack()"
   ]
  },
  {
   "cell_type": "code",
   "execution_count": null,
   "id": "2131b512",
   "metadata": {},
   "outputs": [],
   "source": []
  }
 ],
 "metadata": {
  "kernelspec": {
   "display_name": "Python 3",
   "language": "python",
   "name": "python3"
  },
  "language_info": {
   "codemirror_mode": {
    "name": "ipython",
    "version": 3
   },
   "file_extension": ".py",
   "mimetype": "text/x-python",
   "name": "python",
   "nbconvert_exporter": "python",
   "pygments_lexer": "ipython3",
   "version": "3.8.8"
  }
 },
 "nbformat": 4,
 "nbformat_minor": 5
}
