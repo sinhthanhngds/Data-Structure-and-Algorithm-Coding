{
 "cells": [
  {
   "cell_type": "code",
   "execution_count": 29,
   "id": "c74d434e",
   "metadata": {},
   "outputs": [],
   "source": [
    "class Stack:\n",
    "    def __init__ (self, capacity):\n",
    "        self.stack = []\n",
    "        self.capacity = capacity\n",
    "        \n",
    "    def is_empty(self):\n",
    "        return len(self.stack) == 0\n",
    "            \n",
    "    def is_full (self):\n",
    "        return len(self.stack) == self.capacity\n",
    "          \n",
    "    def push (self, data):\n",
    "        if self.is_full():\n",
    "            return (\"Stack overflow\")\n",
    "        else:\n",
    "            self.stack.append (data)\n",
    "         \n",
    "    def pop (self):\n",
    "        if self.is_empty():\n",
    "            print (\"Stack underflow\")\n",
    "        \n",
    "        else:\n",
    "            pop_value = self.stack[-1]\n",
    "            self.stack.pop()\n",
    "            return (pop_value)\n",
    "        \n",
    "    def top_el(self):\n",
    "        if self.is_empty():\n",
    "            print ('empty stack')\n",
    "        else:\n",
    "            print (self.stack[-1])\n",
    "    \n",
    "    def print_stack(self):\n",
    "        print (self.stack)\n",
    "        \n",
    "\n",
    "        "
   ]
  },
  {
   "cell_type": "code",
   "execution_count": 36,
   "id": "ffcbf6bd",
   "metadata": {},
   "outputs": [],
   "source": [
    "stack = Stack(5)"
   ]
  },
  {
   "cell_type": "code",
   "execution_count": 37,
   "id": "65d16893",
   "metadata": {},
   "outputs": [
    {
     "name": "stdout",
     "output_type": "stream",
     "text": [
      "[]\n"
     ]
    }
   ],
   "source": [
    "stack.print_stack()"
   ]
  },
  {
   "cell_type": "code",
   "execution_count": 38,
   "id": "30abc36a",
   "metadata": {},
   "outputs": [],
   "source": [
    "for i in range (5):\n",
    "    stack.push(i)"
   ]
  },
  {
   "cell_type": "code",
   "execution_count": 41,
   "id": "e5bd4750",
   "metadata": {},
   "outputs": [
    {
     "name": "stdout",
     "output_type": "stream",
     "text": [
      "[0, 1, 2, 3, 4]\n"
     ]
    }
   ],
   "source": [
    "stack.print_stack()"
   ]
  },
  {
   "cell_type": "code",
   "execution_count": 40,
   "id": "637dc227",
   "metadata": {},
   "outputs": [
    {
     "data": {
      "text/plain": [
       "'Stack overflow'"
      ]
     },
     "execution_count": 40,
     "metadata": {},
     "output_type": "execute_result"
    }
   ],
   "source": [
    "stack.push(0)"
   ]
  },
  {
   "cell_type": "code",
   "execution_count": 44,
   "id": "b49cf898",
   "metadata": {},
   "outputs": [
    {
     "data": {
      "text/plain": [
       "3"
      ]
     },
     "execution_count": 44,
     "metadata": {},
     "output_type": "execute_result"
    }
   ],
   "source": [
    "stack.pop ()\n",
    "stack.p"
   ]
  },
  {
   "cell_type": "code",
   "execution_count": null,
   "id": "92a5e1cd",
   "metadata": {},
   "outputs": [],
   "source": []
  }
 ],
 "metadata": {
  "kernelspec": {
   "display_name": "Python 3",
   "language": "python",
   "name": "python3"
  },
  "language_info": {
   "codemirror_mode": {
    "name": "ipython",
    "version": 3
   },
   "file_extension": ".py",
   "mimetype": "text/x-python",
   "name": "python",
   "nbconvert_exporter": "python",
   "pygments_lexer": "ipython3",
   "version": "3.8.8"
  }
 },
 "nbformat": 4,
 "nbformat_minor": 5
}
