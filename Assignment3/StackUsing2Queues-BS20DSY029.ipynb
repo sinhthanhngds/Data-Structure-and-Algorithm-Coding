{
 "cells": [
  {
   "cell_type": "code",
   "execution_count": 29,
   "id": "c8ee943f",
   "metadata": {},
   "outputs": [],
   "source": [
    "# Python Program for implemeting stack using two queues:\n",
    "    \n",
    "class Queue: #class queue\n",
    "    def __init__(self, capacity): \n",
    "        self.arr = []\n",
    "        self.capacity = capacity\n",
    "        \n",
    "    def is_empty (self):\n",
    "        return len(self.arr) == 0\n",
    "    def is_full (self):\n",
    "        return len(self.arr) == self.capacity\n",
    "    \n",
    "    def enqueue(self, data):\n",
    "        if self.is_full():\n",
    "            return \n",
    "        else:\n",
    "            self.arr.append(data) #append element\n",
    "    def dequeue(self):\n",
    "        if len(self.arr) == 0:\n",
    "            return \n",
    "        else:\n",
    "            return self.arr.pop(0)\n",
    "    def print_queue(self):\n",
    "        return (self.arr)\n",
    "class Stack:\n",
    "    def __init__(self): ##assigning capacity for both queues\n",
    "        self.Q1 = Queue(5) \n",
    "        self.Q2 = Queue(5)\n",
    "    def push(self, data): ##pushing into stack = enqueueing into the 1st queue\n",
    "        if self.Q1.is_full(): ##if Q1 is full -> full stack\n",
    "            return \"Stack is full\"\n",
    "        else:\n",
    "            self.Q1.enqueue(data)\n",
    "    def pop(self): \n",
    "        if self.Q1.is_empty():\n",
    "            return (\"Stack is empty\")\n",
    "        else:\n",
    "            popped_element=None\n",
    "            ##dequeue all el from Q1 and enqueue to Q2 except the last el\n",
    "            for i in range(len(self.Q1.arr) - 1):\n",
    "                popped_element = self.Q1.dequeue()\n",
    "                self.Q2.enqueue(popped_element)\n",
    "            #dequeue last el from Q1\n",
    "            self.Q1.dequeue()\n",
    "            #dequeue all el from Q1 and enqueue to Q2\n",
    "            for i in range (len(self.Q2.arr)):\n",
    "                popped_element = self.Q2.dequeue()\n",
    "                self.Q1.enqueue (popped_element)\n",
    "            #reset Q2\n",
    "            self.Q2 = Queue(5)\n",
    "            return popped_element\n",
    "\n",
    "    def display_stack (self):\n",
    "        return self.Q1.print_queue()\n"
   ]
  },
  {
   "cell_type": "code",
   "execution_count": 30,
   "id": "990102b3",
   "metadata": {},
   "outputs": [],
   "source": [
    "stack = Stack()\n",
    "\n",
    "for i in range (7):\n",
    "    stack.push(i)"
   ]
  },
  {
   "cell_type": "code",
   "execution_count": 31,
   "id": "cd4e6c47",
   "metadata": {},
   "outputs": [
    {
     "data": {
      "text/plain": [
       "[0, 1, 2, 3, 4]"
      ]
     },
     "execution_count": 31,
     "metadata": {},
     "output_type": "execute_result"
    }
   ],
   "source": [
    "stack.display_stack()"
   ]
  },
  {
   "cell_type": "code",
   "execution_count": 32,
   "id": "69eb4c0d",
   "metadata": {},
   "outputs": [
    {
     "data": {
      "text/plain": [
       "'Stack is full'"
      ]
     },
     "execution_count": 32,
     "metadata": {},
     "output_type": "execute_result"
    }
   ],
   "source": [
    "stack.push(6)"
   ]
  },
  {
   "cell_type": "code",
   "execution_count": 33,
   "id": "30a2538e",
   "metadata": {},
   "outputs": [
    {
     "data": {
      "text/plain": [
       "[0, 1, 2, 3]"
      ]
     },
     "execution_count": 33,
     "metadata": {},
     "output_type": "execute_result"
    }
   ],
   "source": [
    "stack.pop()\n",
    "stack.display_stack()"
   ]
  },
  {
   "cell_type": "code",
   "execution_count": 34,
   "id": "877ca6ae",
   "metadata": {},
   "outputs": [],
   "source": [
    "stack.push(5)"
   ]
  },
  {
   "cell_type": "code",
   "execution_count": 35,
   "id": "17872e63",
   "metadata": {},
   "outputs": [
    {
     "data": {
      "text/plain": [
       "[0, 1, 2, 3, 5]"
      ]
     },
     "execution_count": 35,
     "metadata": {},
     "output_type": "execute_result"
    }
   ],
   "source": [
    "stack.display_stack()"
   ]
  },
  {
   "cell_type": "code",
   "execution_count": null,
   "id": "c36e5afe",
   "metadata": {},
   "outputs": [],
   "source": []
  }
 ],
 "metadata": {
  "kernelspec": {
   "display_name": "Python 3",
   "language": "python",
   "name": "python3"
  },
  "language_info": {
   "codemirror_mode": {
    "name": "ipython",
    "version": 3
   },
   "file_extension": ".py",
   "mimetype": "text/x-python",
   "name": "python",
   "nbconvert_exporter": "python",
   "pygments_lexer": "ipython3",
   "version": "3.8.8"
  }
 },
 "nbformat": 4,
 "nbformat_minor": 5
}
