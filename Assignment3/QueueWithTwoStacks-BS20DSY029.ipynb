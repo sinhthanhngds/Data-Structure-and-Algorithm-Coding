{
 "cells": [
  {
   "cell_type": "code",
   "execution_count": 57,
   "id": "89807d18",
   "metadata": {},
   "outputs": [],
   "source": [
    "class Stack:\n",
    "    def __init__ (self, capacity):\n",
    "        self.arr = []\n",
    "        self.capacity = capacity\n",
    "    \n",
    "    def is_empty (self):\n",
    "        return len(self.arr) == 0\n",
    "    \n",
    "    def is_full(self):\n",
    "        return len(self.arr) == self.capacity\n",
    "    \n",
    "    def push (self, data):\n",
    "        if self.is_full():\n",
    "            return \n",
    "        else:\n",
    "            return (self.arr.append (data))\n",
    "    def pop_ (self):\n",
    "        if self.is_empty():\n",
    "            return\n",
    "        else:\n",
    "            return (self.arr.pop())\n",
    "    \n",
    "    def print_stack (self):\n",
    "        print ('-->')\n",
    "        return (self.arr)\n",
    "            \n",
    "    \n",
    "\n",
    "class Queue:\n",
    "    def __init__(self, capacity):\n",
    "        #intializing two stacks with capacity == queue's capacity\n",
    "        self.stack1 = Stack(capacity)\n",
    "        self.stack2 = Stack(capacity)\n",
    "         #enqueue for data into the queue\n",
    "    def enqueue(self, data):\n",
    "        if len(self.stack1.arr) == self.stack1.capacity:\n",
    "            return \"Queue is full\"\n",
    "        else:\n",
    "            #pop all el from stack1 and push them into stack2\n",
    "            for i in range (len(self.stack1.arr)):\n",
    "                popped_element = self.stack1.pop_()\n",
    "                self.stack2.push (popped_element)\n",
    "            #push data in to stack1\n",
    "            self.stack1.push (data)\n",
    "            #pop all el from stack2 and push back to stack1\n",
    "            for i in range (len(self.stack2.arr)):\n",
    "                popped_element = self.stack2.pop_()\n",
    "                self.stack1.push (popped_element)\n",
    "        \n",
    "    def dequeue(self):\n",
    "        #stack is empty\n",
    "        if len(self.stack1.arr) == 0:\n",
    "            print(\"Queue is Empty\")\n",
    "                # get top of stack\n",
    "        else:\n",
    "            return self.stack1.pop_()\n",
    "    \n",
    "    def print_queue (self):\n",
    "        return self.stack1.print_stack()\n",
    "#creating Queue object q\n"
   ]
  },
  {
   "cell_type": "code",
   "execution_count": 58,
   "id": "62a8eb80",
   "metadata": {},
   "outputs": [],
   "source": [
    "q = Queue(5)"
   ]
  },
  {
   "cell_type": "code",
   "execution_count": 59,
   "id": "dba1109c",
   "metadata": {},
   "outputs": [
    {
     "name": "stdout",
     "output_type": "stream",
     "text": [
      "-->\n"
     ]
    },
    {
     "data": {
      "text/plain": [
       "[]"
      ]
     },
     "execution_count": 59,
     "metadata": {},
     "output_type": "execute_result"
    }
   ],
   "source": [
    "q.print_queue()"
   ]
  },
  {
   "cell_type": "code",
   "execution_count": 60,
   "id": "c10fac3e",
   "metadata": {},
   "outputs": [
    {
     "name": "stdout",
     "output_type": "stream",
     "text": [
      "-->\n"
     ]
    },
    {
     "data": {
      "text/plain": [
       "[4, 3, 2, 1, 0]"
      ]
     },
     "execution_count": 60,
     "metadata": {},
     "output_type": "execute_result"
    }
   ],
   "source": [
    "for i in range (5):\n",
    "    q.enqueue (i)\n",
    "q.print_queue()\n"
   ]
  },
  {
   "cell_type": "code",
   "execution_count": 61,
   "id": "f07e0fd8",
   "metadata": {},
   "outputs": [
    {
     "data": {
      "text/plain": [
       "'Queue is full'"
      ]
     },
     "execution_count": 61,
     "metadata": {},
     "output_type": "execute_result"
    }
   ],
   "source": [
    "q.enqueue(5)"
   ]
  },
  {
   "cell_type": "code",
   "execution_count": 62,
   "id": "eadbe4de",
   "metadata": {},
   "outputs": [
    {
     "name": "stdout",
     "output_type": "stream",
     "text": [
      "-->\n"
     ]
    },
    {
     "data": {
      "text/plain": [
       "[4, 3, 2, 1]"
      ]
     },
     "execution_count": 62,
     "metadata": {},
     "output_type": "execute_result"
    }
   ],
   "source": [
    "q.dequeue ()\n",
    "q.print_queue()"
   ]
  },
  {
   "cell_type": "code",
   "execution_count": null,
   "id": "8a1eeec3",
   "metadata": {},
   "outputs": [],
   "source": []
  },
  {
   "cell_type": "code",
   "execution_count": null,
   "id": "6fbc4de1",
   "metadata": {},
   "outputs": [],
   "source": []
  }
 ],
 "metadata": {
  "kernelspec": {
   "display_name": "Python 3",
   "language": "python",
   "name": "python3"
  },
  "language_info": {
   "codemirror_mode": {
    "name": "ipython",
    "version": 3
   },
   "file_extension": ".py",
   "mimetype": "text/x-python",
   "name": "python",
   "nbconvert_exporter": "python",
   "pygments_lexer": "ipython3",
   "version": "3.8.8"
  }
 },
 "nbformat": 4,
 "nbformat_minor": 5
}
