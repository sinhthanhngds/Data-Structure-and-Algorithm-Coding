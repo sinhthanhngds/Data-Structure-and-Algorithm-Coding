{
 "cells": [
  {
   "cell_type": "code",
   "execution_count": 1,
   "id": "b5ecdd4b",
   "metadata": {},
   "outputs": [],
   "source": [
    "#Linked List\n",
    "class Node:\n",
    "    def __init__ (self, data):\n",
    "        self.data = data\n",
    "        self.next = None\n",
    "class Queues:\n",
    "    def __init__ (self, capacity):\n",
    "        self.head = None\n",
    "        self.capacity = capacity\n",
    "        \n",
    "    def is_empty(self):\n",
    "        return self.head == None\n",
    "    \n",
    "    def length (self):\n",
    "        current = self.head\n",
    "        self.size = 0\n",
    "        while current != None:\n",
    "            self.size = self.size + 1\n",
    "            current = current.next\n",
    "        return (self.size)\n",
    "    \n",
    "    def is_full (self):\n",
    "        self.length()\n",
    "        return self.size == self.capacity\n",
    "            \n",
    "    \n",
    "    def enqueue (self, data):\n",
    "        newNode = Node (data)\n",
    "        if self.is_empty():\n",
    "            self.head = newNode\n",
    "            return\n",
    "        elif self.is_full():\n",
    "            return \"Queue is full\"\n",
    "        else:\n",
    "            current = self.head\n",
    "            while current.next != None:\n",
    "                current = current.next\n",
    "            current.next = newNode\n",
    "    \n",
    "    def dequeue (self):\n",
    "        if self.is_empty():\n",
    "            return -1\n",
    "        else: \n",
    "            current = self.head\n",
    "            self.head = self.head.next\n",
    "            current.next = None\n",
    "            self.size = self.size - 1\n",
    "    \n",
    "    def print_queue (self):\n",
    "        current = self.head\n",
    "        while current != None:\n",
    "            print (f'<--{current.data}', end = '')\n",
    "            current = current.next\n",
    "            "
   ]
  },
  {
   "cell_type": "code",
   "execution_count": 2,
   "id": "8de08f2c",
   "metadata": {},
   "outputs": [],
   "source": [
    "queue = Queues(4)"
   ]
  },
  {
   "cell_type": "code",
   "execution_count": 3,
   "id": "1a72f740",
   "metadata": {},
   "outputs": [
    {
     "data": {
      "text/plain": [
       "True"
      ]
     },
     "execution_count": 3,
     "metadata": {},
     "output_type": "execute_result"
    }
   ],
   "source": [
    "queue.is_empty()"
   ]
  },
  {
   "cell_type": "code",
   "execution_count": 4,
   "id": "459d2d29",
   "metadata": {},
   "outputs": [
    {
     "data": {
      "text/plain": [
       "'Queue is full'"
      ]
     },
     "execution_count": 4,
     "metadata": {},
     "output_type": "execute_result"
    }
   ],
   "source": [
    "queue.enqueue (2)\n",
    "queue.enqueue (3)\n",
    "queue.enqueue (4)\n",
    "queue.enqueue (5)\n",
    "queue.enqueue (6)\n",
    "\n"
   ]
  },
  {
   "cell_type": "code",
   "execution_count": 5,
   "id": "63d3aaff",
   "metadata": {},
   "outputs": [
    {
     "name": "stdout",
     "output_type": "stream",
     "text": [
      "<--2<--3<--4<--5"
     ]
    }
   ],
   "source": [
    "queue.print_queue()"
   ]
  },
  {
   "cell_type": "code",
   "execution_count": 6,
   "id": "bafe1a4d",
   "metadata": {},
   "outputs": [
    {
     "name": "stdout",
     "output_type": "stream",
     "text": [
      "<--3<--4<--5"
     ]
    }
   ],
   "source": [
    "queue.dequeue ()\n",
    "queue.print_queue()"
   ]
  },
  {
   "cell_type": "code",
   "execution_count": 7,
   "id": "a9f5354e",
   "metadata": {},
   "outputs": [],
   "source": [
    "#Dynamic Array:\n",
    "class Queue:\n",
    "    def __init__ (self, capacity):\n",
    "        self.capacity = capacity\n",
    "        self.dy_array = [None] * self.capacity\n",
    "        self.size = 0\n",
    "    \n",
    "    def is_empty(self):\n",
    "        return self.size == 0\n",
    "\n",
    "    def is_full (self):\n",
    "        return self.size == self.capacity\n",
    "\n",
    "    def increase_cap (self):\n",
    "        newArr = [None] * (self.capacity*2)\n",
    "        for i in range (0, self.size):\n",
    "            newArr[i] = self.dy_array[i]\n",
    "        self.dy_array = newArr\n",
    "        self.capacity = self.capacity * 2\n",
    "    def no_need_cap (self):\n",
    "        return self.size <= self.capacity//2\n",
    "    \n",
    "    def decrease_cap (self):\n",
    "        newArr = [None]* (self.capacity //2)\n",
    "        for i in range (0, self.size):\n",
    "            newArr[i] = self.dy_array[i]\n",
    "        self.dy_array = newArr\n",
    "        self.capacity = self.capacity // 2\n",
    "            \n",
    "\n",
    "    def enqueue (self, data):\n",
    "        if self.is_full():\n",
    "            self.increase_cap()\n",
    "        self.size += 1\n",
    "        self.dy_array[self.size-1] = data\n",
    "    \n",
    "    def dequeue (self):\n",
    "        if self.size == 0:\n",
    "            return ('Queue is already empty')\n",
    "        if self.no_need_cap():\n",
    "            self.decrease_cap()\n",
    "            print('resize')\n",
    "        self.size = self.size -1\n",
    "        for i in range (self.size):\n",
    "            self.dy_array[i] = self.dy_array[i+1]\n",
    "        self.dy_array[self.size] = None\n",
    "        \n",
    "    def print_queue (self):\n",
    "        print (self.dy_array)\n",
    "        "
   ]
  },
  {
   "cell_type": "code",
   "execution_count": 8,
   "id": "b9796b61",
   "metadata": {},
   "outputs": [],
   "source": [
    "queue = Queue(2)\n",
    "for i in range (3):\n",
    "    queue.enqueue(i)"
   ]
  },
  {
   "cell_type": "code",
   "execution_count": 9,
   "id": "7f24d2d8",
   "metadata": {},
   "outputs": [
    {
     "name": "stdout",
     "output_type": "stream",
     "text": [
      "[0, 1, 2, None]\n"
     ]
    }
   ],
   "source": [
    "queue.print_queue()"
   ]
  },
  {
   "cell_type": "code",
   "execution_count": 10,
   "id": "babc8420",
   "metadata": {},
   "outputs": [],
   "source": [
    "queue.dequeue()"
   ]
  },
  {
   "cell_type": "code",
   "execution_count": 11,
   "id": "e224b9d0",
   "metadata": {},
   "outputs": [
    {
     "name": "stdout",
     "output_type": "stream",
     "text": [
      "[1, 2, None, None]\n"
     ]
    }
   ],
   "source": [
    "queue.print_queue()"
   ]
  },
  {
   "cell_type": "code",
   "execution_count": 12,
   "id": "b9c212af",
   "metadata": {},
   "outputs": [
    {
     "name": "stdout",
     "output_type": "stream",
     "text": [
      "resize\n"
     ]
    }
   ],
   "source": [
    "queue.dequeue()"
   ]
  },
  {
   "cell_type": "code",
   "execution_count": null,
   "id": "b8320ebf",
   "metadata": {},
   "outputs": [],
   "source": []
  },
  {
   "cell_type": "code",
   "execution_count": 13,
   "id": "c5041209",
   "metadata": {},
   "outputs": [],
   "source": [
    "#Simple array:\n",
    "class Queue:\n",
    "    def __init__ (self, capacity):\n",
    "        self.capacity = capacity\n",
    "        self.si_array = []\n",
    "    \n",
    "    def is_full (self):\n",
    "        return len(self.si_array) == self.capacity\n",
    "    \n",
    "    def is_empty (self):\n",
    "        return len(self.si_array) == 0\n",
    "    def enqueue (self, data):\n",
    "        if self.is_full():\n",
    "            return \"Queue is full\"\n",
    "        self.si_array.append (data)\n",
    "    def dequeue (self):\n",
    "        if self.is_empty():\n",
    "            return \"empty queue\"\n",
    "        else:\n",
    "            print (self.si_array[0])\n",
    "            return self.si_array.pop (0)\n",
    "        \n",
    "    def print_queue(self):\n",
    "        return (self.si_array)\n",
    "        "
   ]
  },
  {
   "cell_type": "code",
   "execution_count": 14,
   "id": "896eead7",
   "metadata": {},
   "outputs": [],
   "source": [
    "queue = Queue (5)\n",
    "for i in range (5):\n",
    "    queue.enqueue(i)"
   ]
  },
  {
   "cell_type": "code",
   "execution_count": 15,
   "id": "36ac2c55",
   "metadata": {},
   "outputs": [
    {
     "data": {
      "text/plain": [
       "[0, 1, 2, 3, 4]"
      ]
     },
     "execution_count": 15,
     "metadata": {},
     "output_type": "execute_result"
    }
   ],
   "source": [
    "queue.print_queue()"
   ]
  },
  {
   "cell_type": "code",
   "execution_count": 16,
   "id": "2459c0b1",
   "metadata": {},
   "outputs": [
    {
     "data": {
      "text/plain": [
       "'Queue is full'"
      ]
     },
     "execution_count": 16,
     "metadata": {},
     "output_type": "execute_result"
    }
   ],
   "source": [
    "queue.enqueue (5)"
   ]
  },
  {
   "cell_type": "code",
   "execution_count": 17,
   "id": "d2a24663",
   "metadata": {},
   "outputs": [
    {
     "name": "stdout",
     "output_type": "stream",
     "text": [
      "0\n"
     ]
    },
    {
     "data": {
      "text/plain": [
       "[1, 2, 3, 4]"
      ]
     },
     "execution_count": 17,
     "metadata": {},
     "output_type": "execute_result"
    }
   ],
   "source": [
    "queue.dequeue ()\n",
    "queue.print_queue()"
   ]
  },
  {
   "cell_type": "code",
   "execution_count": null,
   "id": "fbc79dca",
   "metadata": {},
   "outputs": [],
   "source": []
  }
 ],
 "metadata": {
  "kernelspec": {
   "display_name": "Python 3",
   "language": "python",
   "name": "python3"
  },
  "language_info": {
   "codemirror_mode": {
    "name": "ipython",
    "version": 3
   },
   "file_extension": ".py",
   "mimetype": "text/x-python",
   "name": "python",
   "nbconvert_exporter": "python",
   "pygments_lexer": "ipython3",
   "version": "3.8.8"
  }
 },
 "nbformat": 4,
 "nbformat_minor": 5
}
