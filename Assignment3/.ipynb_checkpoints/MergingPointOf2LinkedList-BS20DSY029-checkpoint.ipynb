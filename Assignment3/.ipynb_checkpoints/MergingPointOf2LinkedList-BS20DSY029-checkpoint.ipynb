{
 "cells": [
  {
   "cell_type": "code",
   "execution_count": 16,
   "id": "ee4d7d7a",
   "metadata": {},
   "outputs": [],
   "source": [
    "class Node:\n",
    "    def __init__(self, data, next = None):\n",
    "        self.data = data\n",
    "        self.next = next\n",
    "node0 = Node(0)\n",
    "node1 = Node(1)\n",
    "node2 = Node(2)\n",
    "node3 = Node(3)\n",
    "node4 = Node(4)\n",
    "\n",
    "node0.next = node1\n",
    "node1.next = node2\n",
    "node2.next = node3\n",
    "node3.next = node4\n",
    "\n",
    "node2_ = Node(6)\n",
    "node2_.next = node3\n",
    "\n",
    "\n"
   ]
  },
  {
   "cell_type": "code",
   "execution_count": 17,
   "id": "48abecff",
   "metadata": {},
   "outputs": [
    {
     "name": "stdout",
     "output_type": "stream",
     "text": [
      " -> 0 -> 1 -> 2 -> 3 -> 4\n",
      "\n",
      " -> 6 -> 3 -> 4\n",
      "\n",
      "merging point is at index 3 of linked_list 1\n"
     ]
    }
   ],
   "source": [
    "#solution 1\n",
    "class Solution1:\n",
    "    def __init__ (self, head1 = None, head2 = None):\n",
    "        self.head1 = head1\n",
    "        self.head2 = head2\n",
    "    def finding (self):\n",
    "        current1 = self.head1\n",
    "        current2 = self.head2\n",
    "        i = 0\n",
    "        while current1 != None:\n",
    "            while current2 != None:\n",
    "                if current1 == current2:\n",
    "                    return (f'merging point is at index {i} of linked_list 1')\n",
    "                else:\n",
    "                    current2 = current2.next\n",
    "            current2 = self.head2\n",
    "            current1 = current1.next\n",
    "            i = i + 1\n",
    "        return (-1)\n",
    "                \n",
    "    def print_linked_lists(self):\n",
    "        current1 = self.head1\n",
    "        current2 = self.head2\n",
    "        while current1 != None:\n",
    "            print (f' -> {current1.data}', end = '')\n",
    "            current1 = current1.next\n",
    "        print ('\\n')\n",
    "        while current2 != None:\n",
    "            print (f' -> {current2.data}', end = '')\n",
    "            current2 = current2.next\n",
    "\n",
    "linked_lists = Solution1 (node0, node2_)\n",
    "linked_lists.print_linked_lists()\n",
    "print ('\\n')\n",
    "print(linked_lists.finding())\n",
    "        \n"
   ]
  },
  {
   "cell_type": "code",
   "execution_count": 18,
   "id": "921d4418",
   "metadata": {},
   "outputs": [],
   "source": [
    "#solution 2\n",
    "class Solution2:\n",
    "    def __init__ (self, head1 = None, head2 = None):\n",
    "        self.head1 = head1\n",
    "        self.head2 = head2\n",
    "    def finding (self):\n",
    "        current1 = self.head1\n",
    "        current2 = self.head2\n",
    "        \n",
    "        nodes = set()\n",
    "        i = 0\n",
    "        while current1 != None:\n",
    "            nodes.add (current1)\n",
    "            current1 = current1.next\n",
    "        \n",
    "        while current2 != None:\n",
    "            if current2 in nodes:\n",
    "                return current2.data\n",
    "            current2 = current2.next\n",
    "        return -1\n",
    "    def print_linked_list(self):\n",
    "        current1 = self.head1"
   ]
  },
  {
   "cell_type": "code",
   "execution_count": 19,
   "id": "0a6299b9",
   "metadata": {},
   "outputs": [],
   "source": [
    "solution2 = Solution2(node0, node2_)"
   ]
  },
  {
   "cell_type": "code",
   "execution_count": 20,
   "id": "980d80a5",
   "metadata": {},
   "outputs": [
    {
     "data": {
      "text/plain": [
       "3"
      ]
     },
     "execution_count": 20,
     "metadata": {},
     "output_type": "execute_result"
    }
   ],
   "source": [
    "solution2.finding()"
   ]
  },
  {
   "cell_type": "code",
   "execution_count": 21,
   "id": "67bc3d80",
   "metadata": {},
   "outputs": [],
   "source": [
    "#solution 3\n",
    "class Solution3:\n",
    "    def __init__ (self, head1 = None, head2 = None):\n",
    "        self.head1 = head1\n",
    "        self.head2 = head2\n",
    "\n",
    "    def count(self):\n",
    "        current1 = self.head1\n",
    "        current2 = self.head2\n",
    "        self.len1 = 0\n",
    "        while current1 != None:\n",
    "            current1 = current1.next\n",
    "            self.len1 = self.len1 +1\n",
    "        self.len2 = 0\n",
    "        while current2 != None:\n",
    "            current2 = current2.next\n",
    "            self.len2 = self.len2 + 1\n",
    "    def compare (self):\n",
    "        self.diff = self.len1 - self.len2\n",
    "        if self.diff >= 0:\n",
    "            return True\n",
    "        else:\n",
    "            return False\n",
    "    def finding (self):\n",
    "        self.count()\n",
    "        if self.compare():\n",
    "            more = self.head1\n",
    "            less = self.head2\n",
    "        else:\n",
    "            more = self.head2\n",
    "            less = self.head1\n",
    "            \n",
    "        for i in range (self.diff):\n",
    "            more = more.next\n",
    "        \n",
    "        while more!= None and less != None:\n",
    "            if less == more:\n",
    "                return more.data\n",
    "            less = less.next\n",
    "            more = more.next\n",
    "        return -1\n",
    "        "
   ]
  },
  {
   "cell_type": "code",
   "execution_count": 22,
   "id": "20878018",
   "metadata": {},
   "outputs": [],
   "source": [
    "solution3 = Solution3(node0, node2_)"
   ]
  },
  {
   "cell_type": "code",
   "execution_count": 23,
   "id": "f4068115",
   "metadata": {},
   "outputs": [
    {
     "data": {
      "text/plain": [
       "3"
      ]
     },
     "execution_count": 23,
     "metadata": {},
     "output_type": "execute_result"
    }
   ],
   "source": [
    "solution3.finding()"
   ]
  },
  {
   "cell_type": "code",
   "execution_count": 24,
   "id": "eca7c845",
   "metadata": {},
   "outputs": [
    {
     "data": {
      "text/plain": [
       "3"
      ]
     },
     "execution_count": 24,
     "metadata": {},
     "output_type": "execute_result"
    }
   ],
   "source": [
    "#solution 4: using distance to the merging point\n",
    "\n",
    "class Solution4:\n",
    "    def __init__ (self, head1 = None, head2 = None):\n",
    "        self.head1 = head1\n",
    "        self.head2 = head2\n",
    "    \n",
    "    def finding (self):\n",
    "        current1 = self.head1\n",
    "        current2 = self.head2\n",
    "        \n",
    "        while current1 != current2:\n",
    "            if current1 == None:\n",
    "                current1 = self.head2\n",
    "            else:\n",
    "                current1 = current1.next\n",
    "            \n",
    "            if current2 == None:\n",
    "                current2 = self.head1\n",
    "            else:\n",
    "                current2 = current2.next\n",
    "                \n",
    "        return (current1.data)\n",
    "        \n",
    "        \n",
    "        \n",
    "\n",
    "solution4 = Solution4 (node0, node2_)\n",
    "solution4.finding()"
   ]
  },
  {
   "cell_type": "code",
   "execution_count": 25,
   "id": "ba401fd0",
   "metadata": {},
   "outputs": [
    {
     "name": "stdout",
     "output_type": "stream",
     "text": [
      "3\n"
     ]
    }
   ],
   "source": [
    "#solution 5: using circular linked list\n",
    "class Solution5:\n",
    "    def __init__ (self, head1, head2):\n",
    "        self.head1 = head1\n",
    "        self.head2 = head2\n",
    "        \n",
    "    def lengh_list(self):\n",
    "        self.len = 0\n",
    "        current1 = self.head1\n",
    "        while current1 != None:\n",
    "            self.len = self.len + 1\n",
    "            current1 = current1.next\n",
    "            \n",
    "    def circular (self):\n",
    "        current1 = self.head1\n",
    "        while current1.next != None:\n",
    "            current1 = current1.next\n",
    "        current1.next = self.head1\n",
    "    \n",
    "    def finding (self):\n",
    "        current2 = self.head2\n",
    "        for i in range (self.len):\n",
    "            current2 = current2.next\n",
    "    \n",
    "        current2_ = self.head2\n",
    "        while True:\n",
    "            if current2 == current2_:\n",
    "                print (current2.data)\n",
    "                break\n",
    "            current2 = current2.next\n",
    "            current2_ = current2_.next\n",
    "        \n",
    "        return current2.data\n",
    "    \n",
    "    def all_(self):\n",
    "        self.lengh_list()\n",
    "        self.circular()\n",
    "        self.finding()\n",
    "        \n",
    "\n",
    "solution5 = Solution5(node0, node2_)\n",
    "solution5.all_()"
   ]
  },
  {
   "cell_type": "code",
   "execution_count": null,
   "id": "c824d983",
   "metadata": {},
   "outputs": [],
   "source": []
  },
  {
   "cell_type": "code",
   "execution_count": null,
   "id": "e02e2265",
   "metadata": {},
   "outputs": [],
   "source": []
  },
  {
   "cell_type": "code",
   "execution_count": null,
   "id": "a9b75d36",
   "metadata": {},
   "outputs": [],
   "source": []
  }
 ],
 "metadata": {
  "kernelspec": {
   "display_name": "Python 3",
   "language": "python",
   "name": "python3"
  },
  "language_info": {
   "codemirror_mode": {
    "name": "ipython",
    "version": 3
   },
   "file_extension": ".py",
   "mimetype": "text/x-python",
   "name": "python",
   "nbconvert_exporter": "python",
   "pygments_lexer": "ipython3",
   "version": "3.8.8"
  }
 },
 "nbformat": 4,
 "nbformat_minor": 5
}
