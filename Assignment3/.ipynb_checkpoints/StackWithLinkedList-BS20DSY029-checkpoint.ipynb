{
 "cells": [
  {
   "cell_type": "code",
   "execution_count": 9,
   "id": "7bdec4c4",
   "metadata": {},
   "outputs": [],
   "source": [
    "class Node:\n",
    "    def __init__ (self, data):\n",
    "        self.data = data\n",
    "        self.next= None\n",
    "\n",
    "class Stack:\n",
    "    def __init__ (self):\n",
    "        self.head = None\n",
    "        \n",
    "    def is_empty(self):\n",
    "        if self.head == None:\n",
    "            return True\n",
    "        else:\n",
    "            return False\n",
    "    \n",
    "    def push(self, data):\n",
    "        newNode = Node(data)\n",
    "        if self.head == None:\n",
    "            self.head = newNode\n",
    "        else:\n",
    "            newNode.next = self.head\n",
    "            self.head = newNode\n",
    "    \n",
    "    def pop (self):\n",
    "        \n",
    "        if self.is_empty():\n",
    "            return -1\n",
    "        else:\n",
    "            pop_node = self.head\n",
    "            self.head = self.head.next\n",
    "            pop_node.next = None\n",
    "            return pop_node.data\n",
    "    \n",
    "    def top_el(self):\n",
    "        if self.is_empty():\n",
    "            return -1\n",
    "        else:\n",
    "            return (self.head.data)\n",
    "    \n",
    "    def print_stack(self):\n",
    "        current = self.head\n",
    "        if self.is_empty():\n",
    "            return (\"empty stack\")\n",
    "        else:\n",
    "            while (current!= None):\n",
    "                print (f' -> {current.data}', end = \"\")\n",
    "                current = current.next\n",
    "            return"
   ]
  },
  {
   "cell_type": "code",
   "execution_count": 10,
   "id": "0fdc5234",
   "metadata": {},
   "outputs": [],
   "source": [
    "stack = Stack()"
   ]
  },
  {
   "cell_type": "code",
   "execution_count": 11,
   "id": "87a05ece",
   "metadata": {},
   "outputs": [
    {
     "data": {
      "text/plain": [
       "'empty stack'"
      ]
     },
     "execution_count": 11,
     "metadata": {},
     "output_type": "execute_result"
    }
   ],
   "source": [
    "stack.print_stack()"
   ]
  },
  {
   "cell_type": "code",
   "execution_count": 12,
   "id": "6b511efc",
   "metadata": {},
   "outputs": [
    {
     "name": "stdout",
     "output_type": "stream",
     "text": [
      " -> 4 -> 3 -> 2 -> 1 -> 0"
     ]
    }
   ],
   "source": [
    "for i in range (5):\n",
    "    stack.push (i)\n",
    "stack.print_stack()\n"
   ]
  },
  {
   "cell_type": "code",
   "execution_count": 13,
   "id": "089dfe4d",
   "metadata": {},
   "outputs": [
    {
     "name": "stdout",
     "output_type": "stream",
     "text": [
      " -> 3 -> 2 -> 1 -> 0"
     ]
    }
   ],
   "source": [
    "stack.pop()\n",
    "stack.print_stack()"
   ]
  },
  {
   "cell_type": "code",
   "execution_count": 14,
   "id": "9813a341",
   "metadata": {},
   "outputs": [
    {
     "data": {
      "text/plain": [
       "3"
      ]
     },
     "execution_count": 14,
     "metadata": {},
     "output_type": "execute_result"
    }
   ],
   "source": [
    "stack.top_el()"
   ]
  },
  {
   "cell_type": "code",
   "execution_count": null,
   "id": "02235cb3",
   "metadata": {},
   "outputs": [],
   "source": []
  }
 ],
 "metadata": {
  "kernelspec": {
   "display_name": "Python 3",
   "language": "python",
   "name": "python3"
  },
  "language_info": {
   "codemirror_mode": {
    "name": "ipython",
    "version": 3
   },
   "file_extension": ".py",
   "mimetype": "text/x-python",
   "name": "python",
   "nbconvert_exporter": "python",
   "pygments_lexer": "ipython3",
   "version": "3.8.8"
  }
 },
 "nbformat": 4,
 "nbformat_minor": 5
}
